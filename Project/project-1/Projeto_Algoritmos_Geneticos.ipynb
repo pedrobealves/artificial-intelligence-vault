{
  "cells": [
    {
      "cell_type": "markdown",
      "metadata": {
        "id": "Dydi5vggV0mU"
      },
      "source": [
        "# Projeto 1 - Algoritmos Genéticos\n",
        "\n",
        "### Base de dados:\n",
        "(i) http://comopt.ifi.uni-heidelberg.de/software/TSPLIB95/\n",
        "\n",
        "(ii) https://www.math.uwaterloo.ca/tsp/data/index.html\n",
        "\n",
        "- Considerar as bases Symmetric traveling salesman problem (TSP)\n",
        "\n",
        "- Desenvolver uma Algoritmo Genético com o framework DEAP\n",
        "\n",
        "- Utilizar o template Projeto-Algoritmos-Geneticos.ipynb\n",
        "\n",
        "(i) Investigar os resultados com diferentes operadores:\n",
        "\n",
        "   - Cruzamento: cxPartialyMatched(), cxUniformPartialyMatched() e cxOrdered()\n",
        "\n",
        "   - Mutação: mutShuffleIndexes() e mutFlipBit()\n",
        "\n",
        "   - Seleção: selTournament() e selRoulette()\n",
        "\n",
        "(ii) Formas de execução:\n",
        "\n",
        "- Rodar 10 vezes cada combinação distinta de operadores\n",
        "\n",
        "- Apresentar a melhor solução, média e desvio padrão das 10 rodadas   \n",
        "\n",
        "- Utilizar pelo menos 5 bases de dados diferentes:"
      ]
    },
    {
      "cell_type": "code",
      "execution_count": null,
      "metadata": {
        "ExecuteTime": {
          "end_time": "2023-10-14T03:02:26.441552273Z",
          "start_time": "2023-10-14T03:02:23.652457010Z"
        },
        "id": "1K7wR9R10ylw"
      },
      "outputs": [],
      "source": [
        "!pip install deap"
      ]
    },
    {
      "cell_type": "markdown",
      "source": [],
      "metadata": {
        "collapsed": false,
        "id": "fXYvyA4G0yly"
      }
    },
    {
      "cell_type": "code",
      "execution_count": null,
      "metadata": {
        "id": "poUqsEksVMi-",
        "ExecuteTime": {
          "end_time": "2023-10-14T03:02:27.922260647Z",
          "start_time": "2023-10-14T03:02:26.432541275Z"
        }
      },
      "outputs": [],
      "source": [
        "import math\n",
        "import random\n",
        "import array\n",
        "import numpy\n",
        "import matplotlib.pyplot as plt\n",
        "import pandas as pd"
      ]
    },
    {
      "cell_type": "code",
      "execution_count": null,
      "metadata": {
        "ExecuteTime": {
          "end_time": "2023-10-14T03:02:28.134763098Z",
          "start_time": "2023-10-14T03:02:27.921964714Z"
        },
        "id": "gxGKJtv60ylz"
      },
      "outputs": [],
      "source": [
        "from deap import base\n",
        "from deap import creator\n",
        "from deap import algorithms\n",
        "from deap import tools"
      ]
    },
    {
      "cell_type": "code",
      "execution_count": null,
      "metadata": {
        "id": "Ob6Xay-gVUa4",
        "ExecuteTime": {
          "end_time": "2023-10-14T03:02:28.135643367Z",
          "start_time": "2023-10-14T03:02:28.019120065Z"
        }
      },
      "outputs": [],
      "source": [
        "def distL2(x1,y1, x2,y2):\n",
        "    \"\"\"Compute the L2-norm (Euclidean) distance between two points.\n",
        "\n",
        "    The distance is rounded to the closest integer, for compatibility\n",
        "    with the TSPLIB convention.\n",
        "\n",
        "    The two points are located on coordinates (x1,y1) and (x2,y2),\n",
        "    sent as parameters\"\"\"\n",
        "    xdiff = x2 - x1\n",
        "    ydiff = y2 - y1\n",
        "    return int(math.sqrt(xdiff*xdiff + ydiff*ydiff) + .5)"
      ]
    },
    {
      "cell_type": "code",
      "execution_count": null,
      "metadata": {
        "id": "yEFLQd0kVX96",
        "ExecuteTime": {
          "end_time": "2023-10-14T03:02:28.136117733Z",
          "start_time": "2023-10-14T03:02:28.039966035Z"
        }
      },
      "outputs": [],
      "source": [
        "def distL1(x1,y1, x2,y2):\n",
        "    \"\"\"Compute the L1-norm (Manhattan) distance between two points.\n",
        "\n",
        "    The distance is rounded to the closest integer, for compatibility\n",
        "    with the TSPLIB convention.\n",
        "\n",
        "    The two points are located on coordinates (x1,y1) and (x2,y2),\n",
        "    sent as parameters\"\"\"\n",
        "    return int(abs(x2-x1) + abs(y2-y1)+.5)"
      ]
    },
    {
      "cell_type": "code",
      "execution_count": null,
      "metadata": {
        "id": "MK0ApPQiXCIp",
        "ExecuteTime": {
          "end_time": "2023-10-14T03:02:28.138256389Z",
          "start_time": "2023-10-14T03:02:28.048829824Z"
        }
      },
      "outputs": [],
      "source": [
        "def calc_matriz(coord, dist):\n",
        "    \"\"\"Calcula a matriz de distância entre as cidades.\n",
        "\n",
        "    Utiliza a função armazena em 'dist' para calcular as distâncias\n",
        "    entre dois pontos quaisquer.\n",
        "\n",
        "    Parametross:\n",
        "    -coord -- lista de tuplas com as coordenadas de todos os pontos, [(x1,y1),...,(xn,yn)]\n",
        "    -dist -- funçaõ distância\n",
        "    \"\"\"\n",
        "    n = len(coord)\n",
        "    # dicionario com as com coordenadas (chave) e distâncias (valor)\n",
        "    D = {}\n",
        "    for i in range(n-1):\n",
        "        for j in range(i+1,n):\n",
        "            (x1,y1) = coord[i]\n",
        "            (x2,y2) = coord[j]\n",
        "            D[i,j] = dist(x1,y1,x2,y2)\n",
        "            D[j,i] = D[i,j]\n",
        "    return n,D"
      ]
    },
    {
      "cell_type": "code",
      "execution_count": null,
      "metadata": {
        "id": "JTRzI73uVc4m",
        "ExecuteTime": {
          "end_time": "2023-10-14T03:02:28.210579485Z",
          "start_time": "2023-10-14T03:02:28.095417552Z"
        }
      },
      "outputs": [],
      "source": [
        "def read_tsplib(filename):\n",
        "    \"basic function for reading a TSP problem on the TSPLIB format\"\n",
        "    \"NOTE: only works for 2D euclidean or manhattan distances\"\n",
        "    f = open(filename, 'r');\n",
        "\n",
        "    line = f.readline()\n",
        "    while line.find(\"EDGE_WEIGHT_TYPE\") == -1:\n",
        "        line = f.readline()\n",
        "\n",
        "    if line.find(\"EUC_2D\") != -1:\n",
        "        dist = distL2\n",
        "    elif line.find(\"MAN_2D\") != -1:\n",
        "        dist = distL1\n",
        "    else:\n",
        "        print(\"cannot deal with non-euclidean or non-manhattan distances\")\n",
        "        raise Exception\n",
        "\n",
        "    while line.find(\"NODE_COORD_SECTION\") == -1:\n",
        "        line = f.readline()\n",
        "\n",
        "    xy_positions = []\n",
        "    while 1:\n",
        "        line = f.readline()\n",
        "        if line.find(\"EOF\") != -1: break\n",
        "        (i,x,y) = line.split()\n",
        "        # print(dist,i,x,y)\n",
        "        x = float(x)\n",
        "        y = float(y)\n",
        "        xy_positions.append((x,y))\n",
        "\n",
        "    n,D = calc_matriz(xy_positions, dist)\n",
        "    return n, xy_positions, D"
      ]
    },
    {
      "cell_type": "code",
      "execution_count": null,
      "metadata": {
        "id": "6PNC0hzhYU_j",
        "ExecuteTime": {
          "end_time": "2023-10-14T03:02:28.211558099Z",
          "start_time": "2023-10-14T03:02:28.096064891Z"
        }
      },
      "outputs": [],
      "source": [
        "def custo(tour, D):\n",
        "    \"\"\"Calcula a distÇancia da rota de acordo com a matriz 'D'.\"\"\"\n",
        "    z = D[tour[-1], tour[0]]    # aresta a entre a primeira e última cidade da rota\n",
        "    for i in range(1,len(tour)):\n",
        "        z += D[tour[i], tour[i-1]] # atualiza o custo da rota a partir da cidade i-1 to i\n",
        "    return z"
      ]
    },
    {
      "cell_type": "code",
      "execution_count": null,
      "metadata": {
        "id": "JpK_QKfhX57k",
        "ExecuteTime": {
          "end_time": "2023-10-14T03:02:28.212495277Z",
          "start_time": "2023-10-14T03:02:28.096798568Z"
        }
      },
      "outputs": [],
      "source": [
        "def randtour(n):\n",
        "    \"\"\"Gera uma solução aleatória de tamanho 'n'.\"\"\"\n",
        "    sol = list(range(n)) # Gera uma lista sequencial\n",
        "    random.shuffle(sol) # Embaralha a lista\n",
        "    return sol\n"
      ]
    },
    {
      "cell_type": "code",
      "execution_count": null,
      "metadata": {
        "ExecuteTime": {
          "end_time": "2023-10-14T03:02:28.607446777Z",
          "start_time": "2023-10-14T03:02:28.138623195Z"
        },
        "id": "yE4eGhQJ0yl2"
      },
      "outputs": [],
      "source": [
        "# Exemplo com instância \"a280.tsp\"\n",
        "dataset = 'eil51'\n",
        "path = './'+ dataset + '.tsp'\n",
        "print(path)\n",
        "\n",
        "best_fitness_dataset = {\n",
        "    'eil51' : '426',\n",
        "    'st70' : '675',\n",
        "    'rat99' : '1211',\n",
        "    'rd100': '7910',\n",
        "    'pr76': '108159',\n",
        "}\n",
        "\n",
        "n, coord, D = read_tsplib(path)\n",
        "n, coord, D"
      ]
    },
    {
      "cell_type": "code",
      "execution_count": null,
      "metadata": {
        "ExecuteTime": {
          "end_time": "2023-10-14T03:02:28.611112795Z",
          "start_time": "2023-10-14T03:02:28.214642499Z"
        },
        "id": "XdN2oinS0yl3"
      },
      "outputs": [],
      "source": [
        "\"\"\" Registro dos operadores de combinação\n",
        "    -toolbox -- caixa de ferramentas do DEAP\n",
        "    -v_indpb -- probabilidade de mutação\n",
        "\"\"\"\n",
        "def cx_partialy_matched(toolbox, v_indpb = 0.01):\n",
        "    toolbox.register(\"mate\", tools.cxUniformPartialyMatched, indpb = v_indpb)\n",
        "\n",
        "\"\"\" Registro dos operadores de combinação\n",
        "    -toolbox -- caixa de ferramentas do DEAP\n",
        "\"\"\"\n",
        "def cx_uniform_partialy_matched(toolbox):\n",
        "    toolbox.register(\"mate\", tools.cxPartialyMatched)\n",
        "\n",
        "\"\"\" Registro dos operadores de combinação\n",
        "    -toolbox -- caixa de ferramentas do DEAP\n",
        "\"\"\"\n",
        "def cx_ordered(toolbox):\n",
        "    toolbox.register(\"mate\", tools.cxOrdered)"
      ]
    },
    {
      "cell_type": "code",
      "execution_count": null,
      "metadata": {
        "ExecuteTime": {
          "end_time": "2023-10-14T03:02:28.613373961Z",
          "start_time": "2023-10-14T03:02:28.215307658Z"
        },
        "id": "cbnu2RTE0yl3"
      },
      "outputs": [],
      "source": [
        "\"\"\" Registro dos operadores de mutação\n",
        "    -toolbox -- caixa de ferramentas do DEAP\n",
        "    -v_indpb -- probabilidade de mutação\n",
        "\"\"\"\n",
        "def mut_shuffle_indexes(toolbox, v_indpb = 0.01 ):\n",
        "    toolbox.register(\"mutate\", tools.mutShuffleIndexes, indpb = v_indpb)"
      ]
    },
    {
      "cell_type": "code",
      "execution_count": null,
      "metadata": {
        "ExecuteTime": {
          "end_time": "2023-10-14T03:02:28.614313683Z",
          "start_time": "2023-10-14T03:02:28.215887188Z"
        },
        "id": "U29o0fN20yl3"
      },
      "outputs": [],
      "source": [
        "\"\"\" Registro dos operadores de seleção\n",
        "    -toolbox -- caixa de ferramentas do DEAP\n",
        "    -v_tournsize -- tamanho do torneio\n",
        "\"\"\"\n",
        "def sel_tournament(toolbox, v_tournsize = 4):\n",
        "    toolbox.register(\"select\", tools.selTournament, tournsize = v_tournsize)\n",
        "\n",
        "\"\"\" Registro dos operadores de seleção\n",
        "    -toolbox -- caixa de ferramentas do DEAP\n",
        "\"\"\"\n",
        "def sel_toulette(toolbox):\n",
        "    toolbox.register(\"select\", tools.selRoulette)\n"
      ]
    },
    {
      "cell_type": "code",
      "execution_count": null,
      "metadata": {
        "ExecuteTime": {
          "end_time": "2023-10-14T03:02:28.615043492Z",
          "start_time": "2023-10-14T03:02:28.225960026Z"
        },
        "id": "grmJ0C4h0yl3"
      },
      "outputs": [],
      "source": [
        "def eval(individual):\n",
        "    \"\"\"Função de avaliação.\n",
        "    \"\"\"\n",
        "    return (custo(individual, D),)"
      ]
    },
    {
      "cell_type": "code",
      "execution_count": null,
      "metadata": {
        "ExecuteTime": {
          "end_time": "2023-10-14T03:02:28.616535892Z",
          "start_time": "2023-10-14T03:02:28.234938755Z"
        },
        "id": "h_4eLuT90yl3"
      },
      "outputs": [],
      "source": [
        "def create_individual(n):\n",
        "    \"\"\"Função que cria um indivíduo.\n",
        "    \"\"\"\n",
        "    return creator.Individual(randtour(n))"
      ]
    },
    {
      "cell_type": "code",
      "execution_count": null,
      "metadata": {
        "ExecuteTime": {
          "end_time": "2023-10-14T03:02:28.617533782Z",
          "start_time": "2023-10-14T03:02:28.244966144Z"
        },
        "id": "lzbtQJGW0yl4"
      },
      "outputs": [],
      "source": [
        "def create_fitness():\n",
        "    \"\"\"Função que cria o tipo de função fitness.\n",
        "    \"\"\"\n",
        "    # Cria o tipo de função fitness\n",
        "    creator.create(\"FitnessMin\", base.Fitness, weights=(-1.0,)) # minimizar = peso negativo\n",
        "    creator.create(\"Individual\", list, fitness=creator.FitnessMin)"
      ]
    },
    {
      "cell_type": "code",
      "execution_count": null,
      "metadata": {
        "ExecuteTime": {
          "end_time": "2023-10-14T03:02:28.635275802Z",
          "start_time": "2023-10-14T03:02:28.253660206Z"
        },
        "id": "rqrYJ7qr0yl4"
      },
      "outputs": [],
      "source": [
        "# Cria a toolbox\n",
        "def create_toolbox():\n",
        "    \"\"\"Função que cria a toolbox do DEAP.\n",
        "    \"\"\"\n",
        "    toolbox = base.Toolbox()\n",
        "\n",
        "    # Registra o gene e a função de criação\n",
        "    toolbox.register(\"gene\", create_individual, n)\n",
        "\n",
        "    # Registra a populacao na toolbox\n",
        "    toolbox.register(\"population\", tools.initRepeat, list, toolbox.gene)\n",
        "\n",
        "    # Registra o evaluate na toolbox\n",
        "    toolbox.register(\"evaluate\", eval)\n",
        "\n",
        "    return toolbox"
      ]
    },
    {
      "cell_type": "code",
      "execution_count": null,
      "metadata": {
        "ExecuteTime": {
          "end_time": "2023-10-14T03:02:28.650116669Z",
          "start_time": "2023-10-14T03:02:28.264125179Z"
        },
        "id": "R7uvraAz0yl4"
      },
      "outputs": [],
      "source": [
        "def test_register(toolbox):\n",
        "    # Testando os registros\n",
        "    pop = []\n",
        "    pop.append(toolbox.gene())\n",
        "\n",
        "    # pop = toolbox.population(n=10)\n",
        "    fitValue = list(map(toolbox.evaluate,pop))\n",
        "    print(f'{pop[0]}: {fitValue}')"
      ]
    },
    {
      "cell_type": "code",
      "execution_count": null,
      "metadata": {
        "ExecuteTime": {
          "end_time": "2023-10-14T03:02:28.650999280Z",
          "start_time": "2023-10-14T03:02:28.306767101Z"
        },
        "id": "OPLHnOZj0yl4"
      },
      "outputs": [],
      "source": [
        "def statistics(individual):\n",
        "    return individual.fitness.values"
      ]
    },
    {
      "cell_type": "code",
      "execution_count": null,
      "metadata": {
        "ExecuteTime": {
          "end_time": "2023-10-14T03:02:28.651721590Z",
          "start_time": "2023-10-14T03:02:28.307446446Z"
        },
        "id": "aqyhAHje0yl4"
      },
      "outputs": [],
      "source": [
        "\n",
        "def run_GA(toolbox,\n",
        "           prob_cross,\n",
        "           prob_mut,\n",
        "           halloffame,\n",
        "           generations,\n",
        "           population_n = 400,\n",
        "           v_verbose = True):\n",
        "    \"\"\"Executa o algoritmo genético.\n",
        "\n",
        "    Parâmetros:\n",
        "    -toolbox -- caixa de ferramentas do DEAP\n",
        "    -prob_cross -- probabilidade de cruzamento\n",
        "    -prob_mut -- probabilidade de mutação\n",
        "    -halloffame -- objeto do DEAP que armazena o melhor indivíduo encontrado\n",
        "    -geracoes -- número de gerações\n",
        "    -population_n -- tamanho da população\n",
        "    -verbose -- se True, imprime informações sobre a execução do algoritmo\n",
        "\n",
        "    \"\"\"\n",
        "    population = toolbox.population(n = population_n)\n",
        "\n",
        "    stats = tools.Statistics(statistics)\n",
        "\n",
        "    stats.register(\"min\", numpy.min)\n",
        "    stats.register(\"avg\", numpy.mean)\n",
        "    stats.register(\"std\", numpy.std)\n",
        "\n",
        "    population, info = algorithms.eaSimple(population,\n",
        "                                               toolbox,\n",
        "                                               prob_cross,\n",
        "                                               prob_mut,\n",
        "                                               generations,\n",
        "                                               stats,\n",
        "                                               halloffame,\n",
        "                                               verbose = v_verbose)\n",
        "\n",
        "    return min(info, key=lambda x: (x['min']))\n"
      ]
    },
    {
      "cell_type": "code",
      "execution_count": null,
      "metadata": {
        "ExecuteTime": {
          "end_time": "2023-10-14T03:02:28.652440144Z",
          "start_time": "2023-10-14T03:02:28.308353950Z"
        },
        "id": "Tvp4ZyYb0yl4"
      },
      "outputs": [],
      "source": [
        "def plot_TSP(individual, names ,n):\n",
        "    \"\"\"Visualizar o melhor caminho encontrado pelo algoritmo genético.\n",
        "\n",
        "    Parâmetros:\n",
        "    -individual -- melhor indivíduo encontrado pelo algoritmo genético\n",
        "    -names -- nomes dos operadores genéticos utilizados\n",
        "    -n -- número da figura\n",
        "    \"\"\"\n",
        "    plt.figure(n)\n",
        "    plt.title(names[n])\n",
        "    plt.scatter(*zip(*coord), marker='.', color='red')\n",
        "    locs = [coord[i] for i in individual]\n",
        "    locs.append(locs[0])\n",
        "    plt.plot(*zip(*locs), linestyle='-', color='blue')\n",
        "    plt.text(-4, -12, f'caminho: {individual}, custo: {custo(individual, D)}', fontsize=12, wrap=True, verticalalignment='top')\n"
      ]
    },
    {
      "cell_type": "code",
      "execution_count": null,
      "metadata": {
        "ExecuteTime": {
          "end_time": "2023-10-14T03:02:28.653198421Z",
          "start_time": "2023-10-14T03:02:28.350450356Z"
        },
        "id": "mnnJP63d0yl5"
      },
      "outputs": [],
      "source": [
        "def run_operators(prob_cross, prob_mut, generations, crossover, mutation, selection):\n",
        "    \"\"\"Executa o algoritmo genético para uma série de execuções (10 no caso), usando diferentes combinações de operadores genéticos (cruzamento, mutação e seleção)\n",
        "\n",
        "    Paramentros:\n",
        "    -prob_cross -- probabilidade de cruzamento\n",
        "    -prob_mut -- probabilidade de mutação\n",
        "    -generations -- número de gerações\n",
        "    -crossover -- função de cruzamento\n",
        "    -mutation -- função de mutação\n",
        "    -selection -- função de seleção\n",
        "    \"\"\"\n",
        "\n",
        "    best_fit = []\n",
        "\n",
        "    halloffame = tools.HallOfFame(1) # armazena o melhor indivíduo encontrado durante a execução do algoritmo genético\n",
        "\n",
        "    for _ in range(10):\n",
        "        toolbox = create_toolbox()\n",
        "        selection(toolbox)\n",
        "        crossover(toolbox)\n",
        "        mutation(toolbox)\n",
        "        #test_register(toolbox)\n",
        "        best = run_GA(toolbox, prob_cross, prob_mut, halloffame, generations) #executa o algoritmo genético usando a toolbox configurada e os parâmetros fornecidos\n",
        "        best_fit.append(best) #Adiciona o melhor indivíduo encontrado à lista best_fit\n",
        "\n",
        "    return min(best_fit, key=lambda x: (x['min'])), halloffame[0]"
      ]
    },
    {
      "cell_type": "code",
      "execution_count": null,
      "metadata": {
        "ExecuteTime": {
          "end_time": "2023-10-14T03:07:17.991897427Z",
          "start_time": "2023-10-14T03:05:06.815055841Z"
        },
        "id": "QbQ7vkBD0yl5"
      },
      "outputs": [],
      "source": [
        "#Parametros de execução dos Operadores Genéticos e Avaliação do Desempenho\n",
        "prob_cross = 0.95\n",
        "prob_mut = 0.3\n",
        "generations = 500\n",
        "\n",
        "create_fitness()\n",
        "\n",
        "crossover_functions = [cx_ordered,cx_partialy_matched, cx_uniform_partialy_matched]\n",
        "mutation_functions = [mut_shuffle_indexes]\n",
        "selection_functions = [sel_tournament, sel_toulette]\n",
        "\n",
        "best_record = []\n",
        "best_path = []\n",
        "collumn_names = []\n",
        "\n",
        "#Loop para Testar Diferentes Combinações de Operadores Genéticos\n",
        "for crossover in crossover_functions:\n",
        "    for mutation in mutation_functions:\n",
        "        for selection in selection_functions:\n",
        "            collumn_names.append(f'{crossover.__name__}/{mutation.__name__}/{selection.__name__}')\n",
        "            record, path = run_operators(prob_cross, prob_mut, generations, crossover, mutation, selection)\n",
        "            best_record.append(record)\n",
        "            best_path.append(path)\n",
        ""
      ]
    },
    {
      "cell_type": "markdown",
      "metadata": {
        "collapsed": false,
        "id": "-BGRRKIh0yl5"
      },
      "source": [
        "### Resultados de melhor solução, média e desvio padrão de cada combinação de operadores"
      ]
    },
    {
      "cell_type": "code",
      "execution_count": null,
      "metadata": {
        "ExecuteTime": {
          "end_time": "2023-10-14T03:08:04.952981631Z",
          "start_time": "2023-10-14T03:08:04.908649764Z"
        },
        "id": "Wua_Q7530yl6"
      },
      "outputs": [],
      "source": [
        "print(\"[TSPLIB] Melhor solução global do dataset: \" + best_fitness_dataset[dataset])"
      ]
    },
    {
      "cell_type": "code",
      "execution_count": null,
      "metadata": {
        "ExecuteTime": {
          "end_time": "2023-10-14T03:08:06.883008908Z",
          "start_time": "2023-10-14T03:08:06.859102574Z"
        },
        "id": "kCvRLHn00yl6"
      },
      "outputs": [],
      "source": [
        "#Tabela da execução do algoritmo genético para diferentes combinações de operadores genéticos, armazenando as métricas de desempenho em um DataFrame.\n",
        "dt = pd.DataFrame(best_record).T\n",
        "dt.columns = collumn_names\n",
        "print(dt.loc[['min','avg','std']])"
      ]
    },
    {
      "cell_type": "markdown",
      "metadata": {
        "collapsed": false,
        "id": "4WLYTLXn0yl6"
      },
      "source": [
        "### Caminhos das melhores soluções de cada combinação de operadores"
      ]
    },
    {
      "cell_type": "code",
      "execution_count": null,
      "metadata": {
        "ExecuteTime": {
          "end_time": "2023-10-14T03:08:14.062716333Z",
          "start_time": "2023-10-14T03:08:11.144861527Z"
        },
        "id": "BECCDHlB0yl6"
      },
      "outputs": [],
      "source": [
        "#visualizações das rotas encontradas pelo algoritmo genético para diferentes combinações de operadores genéticos\n",
        "for i in range(len(best_path)):\n",
        "    plot_TSP(best_path[i], collumn_names, i)"
      ]
    },
    {
      "cell_type": "code",
      "execution_count": null,
      "outputs": [],
      "source": [],
      "metadata": {
        "id": "8aM_P8uO0yl7"
      }
    }
  ],
  "metadata": {
    "colab": {
      "provenance": []
    },
    "kernelspec": {
      "display_name": "Python 3 (ipykernel)",
      "language": "python",
      "name": "python3"
    },
    "language_info": {
      "codemirror_mode": {
        "name": "ipython",
        "version": 3
      },
      "file_extension": ".py",
      "mimetype": "text/x-python",
      "name": "python",
      "nbconvert_exporter": "python",
      "pygments_lexer": "ipython3",
      "version": "3.11.2"
    }
  },
  "nbformat": 4,
  "nbformat_minor": 0
}