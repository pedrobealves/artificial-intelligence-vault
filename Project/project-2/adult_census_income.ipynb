{
  "cells": [
    {
      "cell_type": "markdown",
      "id": "_QtxlcXvW5Pf",
      "metadata": {
        "id": "_QtxlcXvW5Pf"
      },
      "source": [
        "## Bruno Andrade Schiavone\n",
        "## Barbara Eduarda Rocha\n",
        "## Pedro Bernardi Alves"
      ]
    },
    {
      "cell_type": "code",
      "execution_count": null,
      "id": "initial_id",
      "metadata": {
        "collapsed": true,
        "id": "initial_id",
        "jupyter": {
          "outputs_hidden": true
        }
      },
      "outputs": [],
      "source": [
        "import numpy as np\n",
        "import pandas as pd\n",
        "import matplotlib.pyplot as plt\n",
        "import seaborn as sns\n",
        "import statistics  as sts\n",
        "from sklearn.model_selection import train_test_split\n",
        "from sklearn.preprocessing import StandardScaler\n",
        "from sklearn.model_selection import cross_val_score\n",
        "from sklearn.tree import DecisionTreeClassifier\n",
        "from sklearn.neighbors import KNeighborsClassifier\n",
        "from sklearn.metrics import accuracy_score\n",
        "from sklearn.metrics import confusion_matrix\n",
        "from sklearn.metrics import classification_report\n",
        "from sklearn.neural_network import MLPClassifier"
      ]
    },
    {
      "cell_type": "markdown",
      "id": "utNbqXPpXnSi",
      "metadata": {
        "id": "utNbqXPpXnSi"
      },
      "source": [
        "## 1) Resumo geral da base de dados"
      ]
    },
    {
      "cell_type": "code",
      "execution_count": null,
      "id": "SYhWbkz1XlVd",
      "metadata": {
        "id": "SYhWbkz1XlVd"
      },
      "outputs": [],
      "source": [
        "df=pd.read_csv('adult.csv')\n",
        "df"
      ]
    },
    {
      "cell_type": "code",
      "execution_count": null,
      "id": "9bAGGE902To2",
      "metadata": {
        "id": "9bAGGE902To2"
      },
      "outputs": [],
      "source": [
        "df.info()"
      ]
    },
    {
      "cell_type": "code",
      "execution_count": null,
      "id": "5t52NC193Yrj",
      "metadata": {
        "id": "5t52NC193Yrj"
      },
      "outputs": [],
      "source": [
        "df.describe()"
      ]
    },
    {
      "cell_type": "code",
      "execution_count": null,
      "id": "6A8J3SaT5-Pv",
      "metadata": {
        "id": "6A8J3SaT5-Pv"
      },
      "outputs": [],
      "source": [
        "df['income'].value_counts()"
      ]
    },
    {
      "cell_type": "code",
      "execution_count": null,
      "id": "F171hXRo3stU",
      "metadata": {
        "id": "F171hXRo3stU"
      },
      "outputs": [],
      "source": [
        "df.shape"
      ]
    },
    {
      "cell_type": "markdown",
      "id": "5M1l_50sBZcy",
      "metadata": {
        "id": "5M1l_50sBZcy"
      },
      "source": [
        "## 2) Pré-processamento"
      ]
    },
    {
      "cell_type": "code",
      "execution_count": null,
      "id": "gZw3C3fk38tx",
      "metadata": {
        "id": "gZw3C3fk38tx"
      },
      "outputs": [],
      "source": [
        "df.columns"
      ]
    },
    {
      "cell_type": "code",
      "execution_count": null,
      "id": "uI5zxeKpBbnQ",
      "metadata": {
        "id": "uI5zxeKpBbnQ"
      },
      "outputs": [],
      "source": [
        "df[df == '?'] = np.nan"
      ]
    },
    {
      "cell_type": "code",
      "execution_count": null,
      "id": "L4ZoCJT1E34t",
      "metadata": {
        "id": "L4ZoCJT1E34t"
      },
      "outputs": [],
      "source": [
        "total = df.isnull().sum().sort_values(ascending=False)\n",
        "percent_1 = df.isnull().sum()/df.isnull().count()*100\n",
        "percent_2 = (round(percent_1, 1)).sort_values(ascending=False)\n",
        "missing_data = pd.concat([total, percent_2], axis=1, keys=['Total', '%'])\n",
        "missing_data.head(5)"
      ]
    },
    {
      "cell_type": "code",
      "execution_count": null,
      "id": "IrpTIlPoCfnr",
      "metadata": {
        "id": "IrpTIlPoCfnr"
      },
      "outputs": [],
      "source": [
        "for col in ['workclass', 'occupation', 'native.country']:\n",
        "   df[col].fillna(df[col].mode()[0], inplace=True)"
      ]
    },
    {
      "cell_type": "code",
      "execution_count": null,
      "id": "lRaU5MmjDFMD",
      "metadata": {
        "id": "lRaU5MmjDFMD"
      },
      "outputs": [],
      "source": [
        "df.isnull().sum()"
      ]
    },
    {
      "cell_type": "markdown",
      "id": "bBgRdZHqSK90",
      "metadata": {
        "id": "bBgRdZHqSK90"
      },
      "source": [
        "### Encoding Categorical Features"
      ]
    },
    {
      "cell_type": "code",
      "execution_count": null,
      "id": "LLaK-suqSFHg",
      "metadata": {
        "id": "LLaK-suqSFHg"
      },
      "outputs": [],
      "source": [
        "df.nunique()"
      ]
    },
    {
      "cell_type": "code",
      "execution_count": null,
      "id": "vHIP0hUOSoSW",
      "metadata": {
        "id": "vHIP0hUOSoSW"
      },
      "outputs": [],
      "source": [
        "from sklearn.preprocessing import LabelEncoder"
      ]
    },
    {
      "cell_type": "code",
      "execution_count": null,
      "id": "5n8fyODJSuBk",
      "metadata": {
        "id": "5n8fyODJSuBk"
      },
      "outputs": [],
      "source": [
        "df['income'].value_counts()"
      ]
    },
    {
      "cell_type": "code",
      "execution_count": null,
      "id": "FUbglIvhTXC7",
      "metadata": {
        "id": "FUbglIvhTXC7"
      },
      "outputs": [],
      "source": [
        "df['sex'].value_counts()"
      ]
    },
    {
      "cell_type": "code",
      "execution_count": null,
      "id": "b0bPh-tbTbhz",
      "metadata": {
        "id": "b0bPh-tbTbhz"
      },
      "outputs": [],
      "source": [
        "labelencoder = LabelEncoder()\n",
        "df[[\"income\",\"sex\", \"education\"]] = \\\n",
        "df[[\"income\",\"sex\", \"education\"]].apply(labelencoder.fit_transform)"
      ]
    },
    {
      "cell_type": "code",
      "execution_count": null,
      "id": "vqpzeiHmThEO",
      "metadata": {
        "id": "vqpzeiHmThEO"
      },
      "outputs": [],
      "source": [
        "df.info()"
      ]
    },
    {
      "cell_type": "code",
      "execution_count": null,
      "id": "KBOPMd86Um2z",
      "metadata": {
        "id": "KBOPMd86Um2z"
      },
      "outputs": [],
      "source": [
        "categorical = ['workclass', 'marital.status', 'occupation', 'relationship', 'race', 'native.country']\n",
        "df = pd.get_dummies(df, columns=categorical)"
      ]
    },
    {
      "cell_type": "code",
      "execution_count": null,
      "id": "j-UrnFKtVlXx",
      "metadata": {
        "id": "j-UrnFKtVlXx"
      },
      "outputs": [],
      "source": [
        "df"
      ]
    },
    {
      "cell_type": "markdown",
      "id": "j8rToBhvV226",
      "metadata": {
        "id": "j8rToBhvV226"
      },
      "source": [
        "### Normalização dos dados"
      ]
    },
    {
      "cell_type": "code",
      "execution_count": null,
      "id": "wvvy9VDs3H5A",
      "metadata": {
        "id": "wvvy9VDs3H5A"
      },
      "outputs": [],
      "source": [
        "df_copy = df.copy()"
      ]
    },
    {
      "cell_type": "code",
      "execution_count": null,
      "id": "pfbabF_IVsn_",
      "metadata": {
        "id": "pfbabF_IVsn_"
      },
      "outputs": [],
      "source": [
        "std=StandardScaler()\n",
        "columns = ['age','fnlwgt','education.num', 'capital.gain', 'capital.loss', 'hours.per.week', 'education' ]\n",
        "df[columns] =\\\n",
        "std.fit_transform(df[columns])"
      ]
    },
    {
      "cell_type": "code",
      "execution_count": null,
      "id": "Jj2DC4qWYYO6",
      "metadata": {
        "id": "Jj2DC4qWYYO6"
      },
      "outputs": [],
      "source": [
        "df.describe()"
      ]
    },
    {
      "cell_type": "markdown",
      "id": "QtdYjTPtYs0a",
      "metadata": {
        "id": "QtdYjTPtYs0a"
      },
      "source": [
        "## 3) Algoritmos de Classificação\n",
        "* Árvore de Decisão\n",
        "* KNN\n",
        "* Redes Neurais\n",
        "* K-Means"
      ]
    },
    {
      "cell_type": "code",
      "execution_count": null,
      "id": "HI-x1zcACnpl",
      "metadata": {
        "id": "HI-x1zcACnpl"
      },
      "outputs": [],
      "source": [
        "models = []\n",
        "models.append(['Decision Tree', DecisionTreeClassifier()])\n",
        "models.append(['KNN', KNeighborsClassifier(n_neighbors=5)])\n",
        "models.append(['MLP', MLPClassifier(hidden_layer_sizes=(10,5), activation='relu', solver='sgd', max_iter =800, tol=0.0001, random_state = 3)])"
      ]
    },
    {
      "cell_type": "code",
      "execution_count": null,
      "id": "ESH2YGbtYavz",
      "metadata": {
        "id": "ESH2YGbtYavz"
      },
      "outputs": [],
      "source": [
        "X = df.drop(['income'], axis=1).values\n",
        "y = df['income'].values"
      ]
    },
    {
      "cell_type": "code",
      "execution_count": null,
      "id": "rOXufWIDYzct",
      "metadata": {
        "id": "rOXufWIDYzct"
      },
      "outputs": [],
      "source": [
        "X_train, X_test, y_train, y_test = train_test_split(X, y, test_size=0.3)"
      ]
    },
    {
      "cell_type": "code",
      "execution_count": null,
      "id": "g533BDRbC9df",
      "metadata": {
        "id": "g533BDRbC9df"
      },
      "outputs": [],
      "source": [
        "lst_1= []\n",
        "\n",
        "for m in range(len(models)):\n",
        "    lst_2= []\n",
        "    model = models[m][1]\n",
        "    model.fit(X_train, y_train)\n",
        "    y_pred = model.predict(X_test)\n",
        "\n",
        "    DT_score = model.score(X_train, y_train)\n",
        "    DT_test = model.score(X_test, y_test)\n",
        "\n",
        "    cm = confusion_matrix(y_test,y_pred)\n",
        "    print(models[m][0],':')\n",
        "    print('Training Score',DT_score)\n",
        "    print('Testing Score \\n',DT_test)\n",
        "    print(cm)\n",
        "    print('-----------------------------------')\n",
        "    lst_2.append(models[m][0])\n",
        "    lst_2.append(DT_score)\n",
        "    lst_2.append(DT_test)\n",
        "    lst_1.append(lst_2)"
      ]
    },
    {
      "cell_type": "code",
      "execution_count": null,
      "id": "EKtG8LUmETOs",
      "metadata": {
        "id": "EKtG8LUmETOs"
      },
      "outputs": [],
      "source": [
        "df_compare = pd.DataFrame(lst_1, columns= ['Model', 'Training Score', 'Testing Score'])\n",
        "df_compare"
      ]
    },
    {
      "cell_type": "markdown",
      "id": "4Ybl2cdNy4YG",
      "metadata": {
        "id": "4Ybl2cdNy4YG"
      },
      "source": [
        "### K-Means"
      ]
    },
    {
      "cell_type": "markdown",
      "id": "43BQMyGvzlhm",
      "metadata": {
        "id": "43BQMyGvzlhm"
      },
      "source": [
        "**Erro Mínimos Quadrados**"
      ]
    },
    {
      "cell_type": "code",
      "execution_count": null,
      "id": "4ZGMxFp67GlN",
      "metadata": {
        "id": "4ZGMxFp67GlN"
      },
      "outputs": [],
      "source": [
        "df_K = df.drop('income', axis=1)"
      ]
    },
    {
      "cell_type": "code",
      "execution_count": null,
      "id": "lxpqht7rzNfV",
      "metadata": {
        "id": "lxpqht7rzNfV"
      },
      "outputs": [],
      "source": [
        "from sklearn.cluster import KMeans\n",
        "wcss = []\n",
        "for i in range(1, 15):\n",
        "    kmeans = KMeans(n_clusters = i, init = 'k-means++', random_state = 5, max_iter = 300)\n",
        "    kmeans.fit(df_K[['age','education']])\n",
        "    # inertia: Método para gerar o wcss\n",
        "    wcss.append(kmeans.inertia_)"
      ]
    },
    {
      "cell_type": "code",
      "execution_count": null,
      "id": "vPqtRhET7wOQ",
      "metadata": {
        "id": "vPqtRhET7wOQ"
      },
      "outputs": [],
      "source": [
        "wcss"
      ]
    },
    {
      "cell_type": "code",
      "execution_count": null,
      "id": "5z7Z0DsVzqcs",
      "metadata": {
        "id": "5z7Z0DsVzqcs"
      },
      "outputs": [],
      "source": [
        "import matplotlib.pyplot as plt\n",
        "import seaborn as sns\n",
        "plt.figure(figsize=(10,5))\n",
        "plt.plot(range(1,15),wcss, marker='o')\n",
        "plt.title('The Elbow Method')\n",
        "plt.xlabel('Número de clusters')\n",
        "plt.ylabel('WCSS')\n",
        "plt.show()"
      ]
    },
    {
      "cell_type": "markdown",
      "id": "b6V8nreEz0RI",
      "metadata": {
        "id": "b6V8nreEz0RI"
      },
      "source": [
        "**Agrupamento**"
      ]
    },
    {
      "cell_type": "code",
      "execution_count": null,
      "id": "cKLp49_PzrfG",
      "metadata": {
        "id": "cKLp49_PzrfG"
      },
      "outputs": [],
      "source": [
        "kmeans = KMeans(n_clusters = 4, init = 'k-means++', random_state = 5, max_iter = 300)\n",
        "kmeans1 = kmeans.fit(df_K[['age','education']])"
      ]
    },
    {
      "cell_type": "code",
      "execution_count": null,
      "id": "lEe0VZxfz8du",
      "metadata": {
        "id": "lEe0VZxfz8du"
      },
      "outputs": [],
      "source": [
        "import plotly.express as px\n",
        "centroids = kmeans1.cluster_centers_\n",
        "classification = kmeans1.labels_\n",
        "graph = px.scatter(x = df_K['age'], y = df_K['education'], color=classification)\n",
        "graph.show()"
      ]
    },
    {
      "cell_type": "code",
      "execution_count": null,
      "id": "SE6gmvKO1CNU",
      "metadata": {
        "id": "SE6gmvKO1CNU"
      },
      "outputs": [],
      "source": [
        "#SepalLengthCm x PetalLengthCm\n",
        "import plotly.graph_objects as go\n",
        "\n",
        "graf1 = px.scatter(x = df_K['age'], y = df_K['education'], color=classification)\n",
        "graf2 = px.scatter(x = centroids[:,0], y = centroids[:,1], size = [10, 10, 10, 10])\n",
        "graf3 = go.Figure(data = graf1.data + graf2.data)\n",
        "graf3.update_layout(width=800,height=500,title_text='Agrupamento K-Means')\n",
        "graf3.update_xaxes(title = 'x')\n",
        "graf3.update_yaxes(title = 'y')\n",
        "graf3.show()"
      ]
    },
    {
      "cell_type": "code",
      "execution_count": null,
      "id": "9gK8GRMU1Lzo",
      "metadata": {
        "id": "9gK8GRMU1Lzo"
      },
      "outputs": [],
      "source": [
        "# Adiciona a coluna cluster\n",
        "df_copy['cluster'] = kmeans1.labels_\n",
        "df_copy.head()"
      ]
    },
    {
      "cell_type": "code",
      "execution_count": null,
      "id": "Mc3HOu-41PQu",
      "metadata": {
        "id": "Mc3HOu-41PQu"
      },
      "outputs": [],
      "source": [
        "colors = ['r', 'g', 'b', 'c']\n",
        "\n",
        "\n",
        "# Create the scatter plot with different colors for each cluster\n",
        "plt.figure(figsize=(8, 6))\n",
        "for i in range(4):\n",
        "    cluster_data = df_copy[df_copy['cluster'] == i]\n",
        "    plt.scatter(cluster_data['age'], cluster_data['education'], c=colors[i], label=f'Cluster {i+1}')\n",
        "    if i == 3:  # Add the centroid legend entry only for the first cluster\n",
        "        plt.scatter(cluster_data['age'].mean(), cluster_data['education'].mean(), s=200, c='orange', marker='o', label='Cluster centroid')\n",
        "    else:\n",
        "        plt.scatter(cluster_data['age'].mean(), cluster_data['education'].mean(), s=200, c='orange', marker='o')\n",
        "\n",
        "plt.xlabel('age')\n",
        "plt.ylabel('education')\n",
        "plt.title('Scatter Plot with Clusters')\n",
        "plt.legend()\n",
        "plt.grid(True)\n",
        "plt.show()"
      ]
    },
    {
      "cell_type": "markdown",
      "id": "tsGDRYi9Z-qa",
      "metadata": {
        "id": "tsGDRYi9Z-qa"
      },
      "source": [
        "## 4) validação cruzada"
      ]
    },
    {
      "cell_type": "code",
      "execution_count": null,
      "id": "c9hq7sXkY_5G",
      "metadata": {
        "id": "c9hq7sXkY_5G"
      },
      "outputs": [],
      "source": [
        "from sklearn.model_selection import StratifiedKFold"
      ]
    },
    {
      "cell_type": "code",
      "execution_count": null,
      "id": "k20vKyu7aBO2",
      "metadata": {
        "id": "k20vKyu7aBO2"
      },
      "outputs": [],
      "source": [
        "lst_1= []\n",
        "\n",
        "for m in range(len(models)):\n",
        "  lst_2= []\n",
        "  model = models[m][1]\n",
        "  # Create StratifiedKFold object.\n",
        "  skf = StratifiedKFold(n_splits=10, shuffle=True, random_state=1)\n",
        "  lst_accu_stratified = []\n",
        "\n",
        "  for train_index, test_index in skf.split(X, y):\n",
        "      x_train_fold, x_test_fold = X[train_index], X[test_index]\n",
        "      y_train_fold, y_test_fold = y[train_index], y[test_index]\n",
        "      model.fit(x_train_fold, y_train_fold)\n",
        "      lst_accu_stratified.append(model.score(x_test_fold, y_test_fold))\n",
        "\n",
        "  # Print the output.\n",
        "  print(models[m][0],':')\n",
        "  print('\\nLista de ACC:', lst_accu_stratified)\n",
        "  print('\\nMaior ACC:',\n",
        "        max(lst_accu_stratified)*100, '%')\n",
        "  print('\\nMenor ACC:',\n",
        "        min(lst_accu_stratified)*100, '%')\n",
        "  print('\\nMédia ACC:',\n",
        "        sts.mean(lst_accu_stratified)*100, '%')\n",
        "  print('\\nDesvio Padrão:', sts.stdev(lst_accu_stratified))\n",
        "  print('-----------------------------------')\n",
        "  lst_2.append(models[m][0])\n",
        "  lst_2.append(max(lst_accu_stratified)*100)\n",
        "  lst_2.append(min(lst_accu_stratified)*100)\n",
        "  lst_2.append(sts.mean(lst_accu_stratified)*100)\n",
        "  lst_2.append(sts.stdev(lst_accu_stratified))\n",
        "  lst_1.append(lst_2)\n"
      ]
    },
    {
      "cell_type": "code",
      "execution_count": null,
      "id": "KnHb0DaVHPsg",
      "metadata": {
        "id": "KnHb0DaVHPsg"
      },
      "outputs": [],
      "source": [
        "df_compare = pd.DataFrame(lst_1, columns= ['Model', 'Maior ACC', 'Menor ACC', 'Média ACC', 'Desvio Padrão' ])\n",
        "df_compare"
      ]
    },
    {
      "cell_type": "markdown",
      "id": "yVlKPVtGaM_M",
      "metadata": {
        "id": "yVlKPVtGaM_M"
      },
      "source": [
        "## 5) Balanceamento das classes\n",
        "- https://medium.com/analytics-vidhya/undersampling-and-oversampling-an-old-and-a-new-approach-4f984a0e8392\n",
        "* Abordagem SMOTE"
      ]
    },
    {
      "cell_type": "code",
      "execution_count": null,
      "id": "bBT6RwZSaKNn",
      "metadata": {
        "id": "bBT6RwZSaKNn"
      },
      "outputs": [],
      "source": [
        "df['income'].value_counts()"
      ]
    },
    {
      "cell_type": "code",
      "execution_count": null,
      "id": "LfM8badXaRTb",
      "metadata": {
        "id": "LfM8badXaRTb"
      },
      "outputs": [],
      "source": [
        "from imblearn.over_sampling import SMOTE"
      ]
    },
    {
      "cell_type": "code",
      "execution_count": null,
      "id": "1vJvMP-wIQu5",
      "metadata": {
        "id": "1vJvMP-wIQu5"
      },
      "outputs": [],
      "source": [
        "lst_1= []\n",
        "\n",
        "for m in range(len(models)):\n",
        "  lst_2= []\n",
        "  model = models[m][1]\n",
        "  # Create StratifiedKFold object.\n",
        "  skf = StratifiedKFold(n_splits=10, shuffle=True, random_state=1)\n",
        "  lst_accu_stratified = []\n",
        "\n",
        "  for train_index, test_index in skf.split(X, y):\n",
        "      x_train_fold, x_test_fold = X[train_index], X[test_index]\n",
        "      y_train_fold, y_test_fold = y[train_index], y[test_index]\n",
        "      sm = SMOTE()\n",
        "      x_train_oversampled, y_train_oversampled = sm.fit_resample(x_train_fold, y_train_fold)\n",
        "      model.fit(x_train_oversampled, y_train_oversampled)\n",
        "      lst_accu_stratified.append(model.score(x_test_fold, y_test_fold))\n",
        "  # Print the output.\n",
        "  print(models[m][0],':')\n",
        "  print('\\nLista de ACC:', lst_accu_stratified)\n",
        "  print('\\nMaior ACC:',\n",
        "        max(lst_accu_stratified)*100, '%')\n",
        "  print('\\nMenor ACC:',\n",
        "        min(lst_accu_stratified)*100, '%')\n",
        "  print('\\nMédia ACC:',\n",
        "        sts.mean(lst_accu_stratified)*100, '%')\n",
        "  print('\\nDesvio Padrão:', sts.stdev(lst_accu_stratified))\n",
        "  print('-----------------------------------')\n",
        "  lst_2.append(models[m][0])\n",
        "  lst_2.append(max(lst_accu_stratified)*100)\n",
        "  lst_2.append(min(lst_accu_stratified)*100)\n",
        "  lst_2.append(sts.mean(lst_accu_stratified)*100)\n",
        "  lst_2.append(sts.stdev(lst_accu_stratified))\n",
        "  lst_1.append(lst_2)"
      ]
    },
    {
      "cell_type": "code",
      "execution_count": null,
      "id": "1cyNt08LIpsc",
      "metadata": {
        "id": "1cyNt08LIpsc"
      },
      "outputs": [],
      "source": [
        "df_compare = pd.DataFrame(lst_1, columns= ['Model', 'Maior ACC', 'Menor ACC', 'Média ACC', 'Desvio Padrão' ])\n",
        "df_compare"
      ]
    },
    {
      "cell_type": "markdown",
      "id": "JB5vjhC1agI3",
      "metadata": {
        "id": "JB5vjhC1agI3"
      },
      "source": [
        "## 6) Técnicas de ajuste de hiperparâmetros\n",
        "- https://scikit-learn.org/stable/modules/grid_search.html#\n",
        "- Abordagens disponíveis no scikit-learn:\n",
        "    - GridSearchCV: considera exaustivamente todas as combinações de parâmetros;\n",
        "    - RandomizedSearchCV: pesquisa aleatória de parâmetros, em que cada configuração é amostrada a partir de uma distribuição de possíveis valores de parâmetro."
      ]
    },
    {
      "cell_type": "code",
      "execution_count": null,
      "id": "Iq_653Tv7EZW",
      "metadata": {
        "id": "Iq_653Tv7EZW"
      },
      "outputs": [],
      "source": [
        "models.pop(2)"
      ]
    },
    {
      "cell_type": "code",
      "execution_count": null,
      "id": "4N83pJwwac9-",
      "metadata": {
        "id": "4N83pJwwac9-"
      },
      "outputs": [],
      "source": [
        "from sklearn.model_selection import GridSearchCV\n",
        "from sklearn.model_selection import RandomizedSearchCV"
      ]
    },
    {
      "cell_type": "code",
      "execution_count": null,
      "id": "WMlb_t-FKHBf",
      "metadata": {
        "id": "WMlb_t-FKHBf"
      },
      "outputs": [],
      "source": [
        "def grid_search(estimator, param_grid, cv, return_train_score):\n",
        "  return GridSearchCV(estimator=estimator, param_grid=param_grid, refit=True, cv=cv, return_train_score=return_train_score, n_jobs=-1)"
      ]
    },
    {
      "cell_type": "code",
      "execution_count": null,
      "id": "xwBT6IEcLne3",
      "metadata": {
        "id": "xwBT6IEcLne3"
      },
      "outputs": [],
      "source": [
        "def randomized_search(estimator, param_grid, cv, return_train_score):\n",
        "  return RandomizedSearchCV(estimator=estimator, param_distributions=param_grid,refit=True,n_iter= 10, cv=cv, return_train_score=return_train_score, n_jobs=-1)"
      ]
    },
    {
      "cell_type": "code",
      "execution_count": null,
      "id": "liKYp1wyTfTE",
      "metadata": {
        "id": "liKYp1wyTfTE"
      },
      "outputs": [],
      "source": [
        "estimators = []\n",
        "estimators.append(['GridSearchCV', grid_search])\n",
        "estimators.append(['RandomizedSearchCV', randomized_search])"
      ]
    },
    {
      "cell_type": "code",
      "execution_count": null,
      "id": "dGwI18uKKAeV",
      "metadata": {
        "id": "dGwI18uKKAeV"
      },
      "outputs": [],
      "source": [
        "models_param_grid = {\n",
        "    'Decision Tree' : {'criterion': ['gini', 'entropy', 'log_loss']},\n",
        "    'KNN': {'n_neighbors': [3,5,7,9], 'metric':['euclidean', 'manhattan', 'cosine','minkowski']},\n",
        "    'MLP': {'hidden_layer_sizes': [(10,30,10),(20,)], 'activation': ['tanh', 'relu'], 'solver': ['sgd', 'adam'], 'alpha': [0.0001, 0.05], 'learning_rate': ['constant','adaptive'],}\n",
        "}"
      ]
    },
    {
      "cell_type": "code",
      "execution_count": null,
      "id": "-Gu688geLY6T",
      "metadata": {
        "id": "-Gu688geLY6T"
      },
      "outputs": [],
      "source": [
        "lst_1= []\n",
        "\n",
        "for m in range(len(models)):\n",
        "  model = models[m][1]\n",
        "  print(models[m][0],':')\n",
        "  for n in range(len(estimators)):\n",
        "    lst_2= []\n",
        "    estimator = estimators[n][1]\n",
        "    e_search = estimator(model, models_param_grid[models[m][0]], 10, False)\n",
        "    sm = SMOTE()\n",
        "    x_train_oversampled, y_train_oversampled = sm.fit_resample(X_train, y_train)\n",
        "    e_search.fit(x_train_oversampled, y_train_oversampled)\n",
        "    print('-------')\n",
        "    print(estimators[n][0],':')\n",
        "    print(e_search.best_params_)\n",
        "    print(e_search.best_score_)\n",
        "    print(e_search.best_index_)\n",
        "    print(e_search.cv_results_.keys())\n",
        "    g_results =  pd.DataFrame(e_search.cv_results_)\n",
        "    # Obtém a média das acurácias (10 folds) referente ao conjunto treino\n",
        "    mean_test_score = g_results.loc[e_search.best_index_,'mean_test_score']\n",
        "    print(mean_test_score)\n",
        "    # Avalia o conjunto teste  com o melhor conjunto de parâmetros encontrado\n",
        "    # best_estimator_ .Para tanto, o parâmetro refit precisa ser igual a True\n",
        "    model = e_search.best_estimator_\n",
        "    score = model.score(X_test,y_test)\n",
        "    print(score)\n",
        "    print('-------')\n",
        "    lst_2.append(f'{models[m][0]}({estimators[n][0]})')\n",
        "    lst_2.append(e_search.best_params_)\n",
        "    lst_2.append(e_search.best_score_)\n",
        "    lst_2.append(e_search.best_index_)\n",
        "    lst_2.append(mean_test_score)\n",
        "    lst_2.append(score)\n",
        "    lst_1.append(lst_2)\n",
        "  print('-----------------------------------')"
      ]
    },
    {
      "cell_type": "code",
      "execution_count": null,
      "id": "TYTDEV1RyQE3",
      "metadata": {
        "id": "TYTDEV1RyQE3"
      },
      "outputs": [],
      "source": [
        "df_compare = pd.DataFrame(lst_1, columns= ['Model', 'best_params_', 'best_score_','best_index_', 'mean_test_score','score' ])\n",
        "df_compare"
      ]
    },
    {
      "cell_type": "code",
      "execution_count": null,
      "id": "a9pxAOaASrf4",
      "metadata": {
        "id": "a9pxAOaASrf4"
      },
      "outputs": [],
      "source": []
    }
  ],
  "metadata": {
    "accelerator": "GPU",
    "colab": {
      "provenance": []
    },
    "kernelspec": {
      "display_name": "Python 3 (ipykernel)",
      "language": "python",
      "name": "python3"
    },
    "language_info": {
      "codemirror_mode": {
        "name": "ipython",
        "version": 3
      },
      "file_extension": ".py",
      "mimetype": "text/x-python",
      "name": "python",
      "nbconvert_exporter": "python",
      "pygments_lexer": "ipython3",
      "version": "3.11.2"
    }
  },
  "nbformat": 4,
  "nbformat_minor": 5
}