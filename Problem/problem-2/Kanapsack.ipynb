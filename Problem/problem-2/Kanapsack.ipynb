{
 "cells": [
  {
   "cell_type": "markdown",
   "id": "8057031b081171d2",
   "metadata": {
    "collapsed": false,
    "jupyter": {
     "outputs_hidden": false
    }
   },
   "source": [
    "## **Bruno Andrade Schiavone 2142546**\n",
    "## **Pedro Bernardi Alves 1914618**"
   ]
  },
  {
   "cell_type": "code",
   "execution_count": 14,
   "id": "57ca33ce5c55acf4",
   "metadata": {
    "ExecuteTime": {
     "end_time": "2023-09-20T21:31:14.770626343Z",
     "start_time": "2023-09-20T21:31:14.721881090Z"
    },
    "collapsed": false,
    "jupyter": {
     "outputs_hidden": false
    }
   },
   "outputs": [],
   "source": [
    "import six\n",
    "import sys\n",
    "sys.modules['sklearn.externals.six'] = six\n",
    "import mlrose"
   ]
  },
  {
   "cell_type": "markdown",
   "id": "aa18024f4b537509",
   "metadata": {
    "collapsed": false,
    "jupyter": {
     "outputs_hidden": false
    }
   },
   "source": [
    "## Representação do problema"
   ]
  },
  {
   "cell_type": "code",
   "execution_count": 15,
   "id": "initial_id",
   "metadata": {
    "ExecuteTime": {
     "end_time": "2023-09-20T21:31:14.770997809Z",
     "start_time": "2023-09-20T21:31:14.765562047Z"
    }
   },
   "outputs": [],
   "source": [
    "def read(dataset):\n",
    "    return [\n",
    "        list_reader(\"datasets/%s_w.txt\" % dataset),\n",
    "        list_reader(\"datasets/%s_p.txt\" % dataset),\n",
    "        list_reader(\"datasets/%s_s.txt\" % dataset),\n",
    "        int(open('datasets/%s_c.txt' % dataset).read())\n",
    "    ]\n",
    "\n",
    "def list_reader(file_name):\n",
    "    file = open(file_name).read().split('\\n')\n",
    "    file.remove('')\n",
    "    return list(map(int, file))"
   ]
  },
  {
   "cell_type": "code",
   "execution_count": null,
   "id": "3f458d2161d7c2cf",
   "metadata": {
    "ExecuteTime": {
     "end_time": "2023-09-20T21:31:14.860405853Z",
     "start_time": "2023-09-20T21:31:14.765701812Z"
    },
    "collapsed": false,
    "jupyter": {
     "outputs_hidden": false
    }
   },
   "outputs": [],
   "source": [
    "import numpy as np\n",
    "\n",
    "melhores_custos_HC = {}\n",
    "melhores_custos_SA = {}\n",
    "\n",
    "for i in range(8):\n",
    "    data = read('p%s' % str(i+1).zfill(2))\n",
    "    max_weight_pct = data[3]/sum(data[0])\n",
    "    fitness = mlrose.Knapsack(data[0], data[1], max_weight_pct)\n",
    "    problem = mlrose.DiscreteOpt(length = len(data[0]), fitness_fn = fitness,\n",
    "                                 maximize = True, max_val = 2)\n",
    "    best_global_coust= fitness.evaluate(np.array(data[2]))\n",
    "    for j in range(10):\n",
    "        solucao_HC, melhor_custo_HC = mlrose.hill_climb(problem)\n",
    "        solucao_SA, melhor_custo_SA = mlrose.simulated_annealing(problem)\n",
    "        # Armazena o melhor custo para esta iteração\n",
    "        if j == 0 or melhor_custo_HC > melhores_custos_HC[i][0]:\n",
    "            melhores_custos_HC[i] = (melhor_custo_HC,best_global_coust, solucao_HC, data[2])\n",
    "        if j == 0 or melhor_custo_SA > melhores_custos_SA[i][0]:\n",
    "            melhores_custos_SA[i] = (melhor_custo_SA,best_global_coust, solucao_SA, data[2])"
   ]
  },
  {
   "cell_type": "code",
   "execution_count": 17,
   "id": "908f271b7a31443c",
   "metadata": {
    "ExecuteTime": {
     "end_time": "2023-09-20T21:31:14.909732428Z",
     "start_time": "2023-09-20T21:31:14.863020573Z"
    },
    "collapsed": false,
    "jupyter": {
     "outputs_hidden": false
    }
   },
   "outputs": [],
   "source": [
    "import pandas as pd"
   ]
  },
  {
   "cell_type": "code",
   "execution_count": 18,
   "id": "e10a8e5ea8b6b381",
   "metadata": {
    "ExecuteTime": {
     "end_time": "2023-09-20T21:31:14.910387904Z",
     "start_time": "2023-09-20T21:31:14.909611687Z"
    },
    "collapsed": false,
    "jupyter": {
     "outputs_hidden": false
    }
   },
   "outputs": [
    {
     "data": {
      "text/html": [
       "<div>\n",
       "<style scoped>\n",
       "    .dataframe tbody tr th:only-of-type {\n",
       "        vertical-align: middle;\n",
       "    }\n",
       "\n",
       "    .dataframe tbody tr th {\n",
       "        vertical-align: top;\n",
       "    }\n",
       "\n",
       "    .dataframe thead th {\n",
       "        text-align: right;\n",
       "    }\n",
       "</style>\n",
       "<table border=\"1\" class=\"dataframe\">\n",
       "  <thead>\n",
       "    <tr style=\"text-align: right;\">\n",
       "      <th></th>\n",
       "      <th>Melhor custo</th>\n",
       "      <th>Melhor custo global</th>\n",
       "      <th>Melhor solução</th>\n",
       "      <th>Melhor solução global</th>\n",
       "    </tr>\n",
       "  </thead>\n",
       "  <tbody>\n",
       "    <tr>\n",
       "      <th>0</th>\n",
       "      <td>269.0</td>\n",
       "      <td>309</td>\n",
       "      <td>[1, 0, 1, 1, 1, 0, 0, 0, 0, 0]</td>\n",
       "      <td>[1, 1, 1, 1, 0, 1, 0, 0, 0, 0]</td>\n",
       "    </tr>\n",
       "    <tr>\n",
       "      <th>1</th>\n",
       "      <td>51.0</td>\n",
       "      <td>51</td>\n",
       "      <td>[0, 1, 1, 1, 0]</td>\n",
       "      <td>[0, 1, 1, 1, 0]</td>\n",
       "    </tr>\n",
       "    <tr>\n",
       "      <th>2</th>\n",
       "      <td>150.0</td>\n",
       "      <td>150</td>\n",
       "      <td>[1, 1, 0, 0, 1, 0]</td>\n",
       "      <td>[1, 1, 0, 0, 1, 0]</td>\n",
       "    </tr>\n",
       "    <tr>\n",
       "      <th>3</th>\n",
       "      <td>107.0</td>\n",
       "      <td>107</td>\n",
       "      <td>[1, 0, 0, 1, 0, 0, 0]</td>\n",
       "      <td>[1, 0, 0, 1, 0, 0, 0]</td>\n",
       "    </tr>\n",
       "    <tr>\n",
       "      <th>4</th>\n",
       "      <td>898.0</td>\n",
       "      <td>900</td>\n",
       "      <td>[1, 0, 1, 1, 1, 1, 0, 0]</td>\n",
       "      <td>[1, 0, 1, 1, 1, 0, 1, 1]</td>\n",
       "    </tr>\n",
       "    <tr>\n",
       "      <th>5</th>\n",
       "      <td>1688.0</td>\n",
       "      <td>1735</td>\n",
       "      <td>[0, 1, 0, 0, 1, 0, 1]</td>\n",
       "      <td>[0, 1, 0, 1, 0, 0, 1]</td>\n",
       "    </tr>\n",
       "    <tr>\n",
       "      <th>6</th>\n",
       "      <td>1446.0</td>\n",
       "      <td>1458</td>\n",
       "      <td>[0, 1, 1, 1, 1, 0, 1, 0, 0, 0, 1, 0, 0, 1, 1]</td>\n",
       "      <td>[1, 0, 1, 0, 1, 0, 1, 1, 1, 0, 0, 0, 0, 1, 1]</td>\n",
       "    </tr>\n",
       "    <tr>\n",
       "      <th>7</th>\n",
       "      <td>13278442.0</td>\n",
       "      <td>13549094</td>\n",
       "      <td>[1, 1, 0, 0, 1, 1, 0, 0, 1, 1, 1, 0, 0, 1, 0, ...</td>\n",
       "      <td>[1, 1, 0, 1, 1, 1, 0, 0, 0, 1, 1, 0, 1, 0, 0, ...</td>\n",
       "    </tr>\n",
       "  </tbody>\n",
       "</table>\n",
       "</div>"
      ],
      "text/plain": [
       "  Melhor custo Melhor custo global  \\\n",
       "0        269.0                 309   \n",
       "1         51.0                  51   \n",
       "2        150.0                 150   \n",
       "3        107.0                 107   \n",
       "4        898.0                 900   \n",
       "5       1688.0                1735   \n",
       "6       1446.0                1458   \n",
       "7   13278442.0            13549094   \n",
       "\n",
       "                                      Melhor solução  \\\n",
       "0                     [1, 0, 1, 1, 1, 0, 0, 0, 0, 0]   \n",
       "1                                    [0, 1, 1, 1, 0]   \n",
       "2                                 [1, 1, 0, 0, 1, 0]   \n",
       "3                              [1, 0, 0, 1, 0, 0, 0]   \n",
       "4                           [1, 0, 1, 1, 1, 1, 0, 0]   \n",
       "5                              [0, 1, 0, 0, 1, 0, 1]   \n",
       "6      [0, 1, 1, 1, 1, 0, 1, 0, 0, 0, 1, 0, 0, 1, 1]   \n",
       "7  [1, 1, 0, 0, 1, 1, 0, 0, 1, 1, 1, 0, 0, 1, 0, ...   \n",
       "\n",
       "                               Melhor solução global  \n",
       "0                     [1, 1, 1, 1, 0, 1, 0, 0, 0, 0]  \n",
       "1                                    [0, 1, 1, 1, 0]  \n",
       "2                                 [1, 1, 0, 0, 1, 0]  \n",
       "3                              [1, 0, 0, 1, 0, 0, 0]  \n",
       "4                           [1, 0, 1, 1, 1, 0, 1, 1]  \n",
       "5                              [0, 1, 0, 1, 0, 0, 1]  \n",
       "6      [1, 0, 1, 0, 1, 0, 1, 1, 1, 0, 0, 0, 0, 1, 1]  \n",
       "7  [1, 1, 0, 1, 1, 1, 0, 0, 0, 1, 1, 0, 1, 0, 0, ...  "
      ]
     },
     "execution_count": 18,
     "metadata": {},
     "output_type": "execute_result"
    }
   ],
   "source": [
    "dt_HC = pd.DataFrame(melhores_custos_HC).T\n",
    "dt_HC.columns = ['Melhor custo', 'Melhor custo global', 'Melhor solução','Melhor solução global']\n",
    "dt_HC"
   ]
  },
  {
   "cell_type": "code",
   "execution_count": 19,
   "id": "cc929a7ed10ed22c",
   "metadata": {
    "ExecuteTime": {
     "end_time": "2023-09-20T21:31:14.911666065Z",
     "start_time": "2023-09-20T21:31:14.909837729Z"
    },
    "collapsed": false,
    "jupyter": {
     "outputs_hidden": false
    }
   },
   "outputs": [
    {
     "data": {
      "text/html": [
       "<div>\n",
       "<style scoped>\n",
       "    .dataframe tbody tr th:only-of-type {\n",
       "        vertical-align: middle;\n",
       "    }\n",
       "\n",
       "    .dataframe tbody tr th {\n",
       "        vertical-align: top;\n",
       "    }\n",
       "\n",
       "    .dataframe thead th {\n",
       "        text-align: right;\n",
       "    }\n",
       "</style>\n",
       "<table border=\"1\" class=\"dataframe\">\n",
       "  <thead>\n",
       "    <tr style=\"text-align: right;\">\n",
       "      <th></th>\n",
       "      <th>Melhor custo</th>\n",
       "      <th>Melhor custo global</th>\n",
       "      <th>Melhor solução</th>\n",
       "      <th>Melhor solução global</th>\n",
       "    </tr>\n",
       "  </thead>\n",
       "  <tbody>\n",
       "    <tr>\n",
       "      <th>0</th>\n",
       "      <td>309.0</td>\n",
       "      <td>309</td>\n",
       "      <td>[1, 1, 1, 1, 0, 1, 0, 0, 0, 0]</td>\n",
       "      <td>[1, 1, 1, 1, 0, 1, 0, 0, 0, 0]</td>\n",
       "    </tr>\n",
       "    <tr>\n",
       "      <th>1</th>\n",
       "      <td>51.0</td>\n",
       "      <td>51</td>\n",
       "      <td>[0, 1, 1, 1, 0]</td>\n",
       "      <td>[0, 1, 1, 1, 0]</td>\n",
       "    </tr>\n",
       "    <tr>\n",
       "      <th>2</th>\n",
       "      <td>119.0</td>\n",
       "      <td>150</td>\n",
       "      <td>[0, 1, 1, 0, 0, 1]</td>\n",
       "      <td>[1, 1, 0, 0, 1, 0]</td>\n",
       "    </tr>\n",
       "    <tr>\n",
       "      <th>3</th>\n",
       "      <td>105.0</td>\n",
       "      <td>107</td>\n",
       "      <td>[1, 1, 0, 0, 0, 1, 1]</td>\n",
       "      <td>[1, 0, 0, 1, 0, 0, 0]</td>\n",
       "    </tr>\n",
       "    <tr>\n",
       "      <th>4</th>\n",
       "      <td>900.0</td>\n",
       "      <td>900</td>\n",
       "      <td>[1, 0, 1, 1, 1, 0, 1, 1]</td>\n",
       "      <td>[1, 0, 1, 1, 1, 0, 1, 1]</td>\n",
       "    </tr>\n",
       "    <tr>\n",
       "      <th>5</th>\n",
       "      <td>1692.0</td>\n",
       "      <td>1735</td>\n",
       "      <td>[0, 0, 1, 0, 0, 1, 1]</td>\n",
       "      <td>[0, 1, 0, 1, 0, 0, 1]</td>\n",
       "    </tr>\n",
       "    <tr>\n",
       "      <th>6</th>\n",
       "      <td>1436.0</td>\n",
       "      <td>1458</td>\n",
       "      <td>[1, 1, 0, 0, 1, 1, 1, 0, 0, 1, 0, 0, 0, 1, 1]</td>\n",
       "      <td>[1, 0, 1, 0, 1, 0, 1, 1, 1, 0, 0, 0, 0, 1, 1]</td>\n",
       "    </tr>\n",
       "    <tr>\n",
       "      <th>7</th>\n",
       "      <td>13258227.0</td>\n",
       "      <td>13549094</td>\n",
       "      <td>[1, 0, 0, 0, 1, 1, 1, 1, 1, 1, 1, 0, 0, 0, 1, ...</td>\n",
       "      <td>[1, 1, 0, 1, 1, 1, 0, 0, 0, 1, 1, 0, 1, 0, 0, ...</td>\n",
       "    </tr>\n",
       "  </tbody>\n",
       "</table>\n",
       "</div>"
      ],
      "text/plain": [
       "  Melhor custo Melhor custo global  \\\n",
       "0        309.0                 309   \n",
       "1         51.0                  51   \n",
       "2        119.0                 150   \n",
       "3        105.0                 107   \n",
       "4        900.0                 900   \n",
       "5       1692.0                1735   \n",
       "6       1436.0                1458   \n",
       "7   13258227.0            13549094   \n",
       "\n",
       "                                      Melhor solução  \\\n",
       "0                     [1, 1, 1, 1, 0, 1, 0, 0, 0, 0]   \n",
       "1                                    [0, 1, 1, 1, 0]   \n",
       "2                                 [0, 1, 1, 0, 0, 1]   \n",
       "3                              [1, 1, 0, 0, 0, 1, 1]   \n",
       "4                           [1, 0, 1, 1, 1, 0, 1, 1]   \n",
       "5                              [0, 0, 1, 0, 0, 1, 1]   \n",
       "6      [1, 1, 0, 0, 1, 1, 1, 0, 0, 1, 0, 0, 0, 1, 1]   \n",
       "7  [1, 0, 0, 0, 1, 1, 1, 1, 1, 1, 1, 0, 0, 0, 1, ...   \n",
       "\n",
       "                               Melhor solução global  \n",
       "0                     [1, 1, 1, 1, 0, 1, 0, 0, 0, 0]  \n",
       "1                                    [0, 1, 1, 1, 0]  \n",
       "2                                 [1, 1, 0, 0, 1, 0]  \n",
       "3                              [1, 0, 0, 1, 0, 0, 0]  \n",
       "4                           [1, 0, 1, 1, 1, 0, 1, 1]  \n",
       "5                              [0, 1, 0, 1, 0, 0, 1]  \n",
       "6      [1, 0, 1, 0, 1, 0, 1, 1, 1, 0, 0, 0, 0, 1, 1]  \n",
       "7  [1, 1, 0, 1, 1, 1, 0, 0, 0, 1, 1, 0, 1, 0, 0, ...  "
      ]
     },
     "execution_count": 19,
     "metadata": {},
     "output_type": "execute_result"
    }
   ],
   "source": [
    "dt_SA = pd.DataFrame(melhores_custos_SA).T\n",
    "dt_SA.columns = ['Melhor custo', 'Melhor custo global', 'Melhor solução','Melhor solução global']\n",
    "dt_SA"
   ]
  },
  {
   "cell_type": "code",
   "execution_count": null,
   "id": "78e5a856-078b-48e8-8337-b2965ec70008",
   "metadata": {},
   "outputs": [],
   "source": []
  }
 ],
 "metadata": {
  "kernelspec": {
   "display_name": "Python 3 (ipykernel)",
   "language": "python",
   "name": "python3"
  },
  "language_info": {
   "codemirror_mode": {
    "name": "ipython",
    "version": 3
   },
   "file_extension": ".py",
   "mimetype": "text/x-python",
   "name": "python",
   "nbconvert_exporter": "python",
   "pygments_lexer": "ipython3",
   "version": "3.11.2"
  }
 },
 "nbformat": 4,
 "nbformat_minor": 5
}
