{
  "cells": [
    {
      "cell_type": "markdown",
      "id": "8057031b081171d2",
      "metadata": {
        "collapsed": false,
        "jupyter": {
          "outputs_hidden": false
        },
        "id": "8057031b081171d2"
      },
      "source": [
        "## **Bruno Andrade Schiavone 2142546**\n",
        "## **Pedro Bernardi Alves 1914618**"
      ]
    },
    {
      "cell_type": "code",
      "execution_count": null,
      "id": "57ca33ce5c55acf4",
      "metadata": {
        "ExecuteTime": {
          "end_time": "2023-09-20T21:31:14.770626343Z",
          "start_time": "2023-09-20T21:31:14.721881090Z"
        },
        "jupyter": {
          "outputs_hidden": false
        },
        "id": "57ca33ce5c55acf4"
      },
      "outputs": [],
      "source": [
        "import six\n",
        "import sys\n",
        "sys.modules['sklearn.externals.six'] = six\n",
        "import mlrose"
      ]
    },
    {
      "cell_type": "markdown",
      "id": "aa18024f4b537509",
      "metadata": {
        "collapsed": false,
        "jupyter": {
          "outputs_hidden": false
        },
        "id": "aa18024f4b537509"
      },
      "source": [
        "## Representação do problema"
      ]
    },
    {
      "cell_type": "code",
      "execution_count": null,
      "id": "initial_id",
      "metadata": {
        "ExecuteTime": {
          "end_time": "2023-09-20T21:31:14.770997809Z",
          "start_time": "2023-09-20T21:31:14.765562047Z"
        },
        "id": "initial_id"
      },
      "outputs": [],
      "source": [
        "def read(dataset):\n",
        "    return [\n",
        "        list_reader(\"datasets/%s_w.txt\" % dataset),\n",
        "        list_reader(\"datasets/%s_p.txt\" % dataset),\n",
        "        list_reader(\"datasets/%s_s.txt\" % dataset),\n",
        "        int(open('datasets/%s_c.txt' % dataset).read())\n",
        "    ]\n",
        "\n",
        "def list_reader(file_name):\n",
        "    file = open(file_name).read().split('\\n')\n",
        "    file.remove('')\n",
        "    return list(map(int, file))"
      ]
    },
    {
      "cell_type": "code",
      "execution_count": null,
      "id": "3f458d2161d7c2cf",
      "metadata": {
        "ExecuteTime": {
          "end_time": "2023-09-20T21:31:14.860405853Z",
          "start_time": "2023-09-20T21:31:14.765701812Z"
        },
        "jupyter": {
          "outputs_hidden": false
        },
        "id": "3f458d2161d7c2cf"
      },
      "outputs": [],
      "source": [
        "import numpy as np\n",
        "\n",
        "melhores_custos_HC = {}\n",
        "melhores_custos_SA = {}\n",
        "\n",
        "for i in range(8):\n",
        "    data = read('p%s' % str(i+1).zfill(2))\n",
        "    max_weight_pct = data[3]/sum(data[0])\n",
        "    fitness = mlrose.Knapsack(data[0], data[1], max_weight_pct)\n",
        "    problem = mlrose.DiscreteOpt(length = len(data[0]), fitness_fn = fitness,\n",
        "                                 maximize = True, max_val = 2)\n",
        "    best_global_coust= fitness.evaluate(np.array(data[2]))\n",
        "    for j in range(10):\n",
        "        solucao_HC, melhor_custo_HC = mlrose.hill_climb(problem)\n",
        "        solucao_SA, melhor_custo_SA = mlrose.simulated_annealing(problem)\n",
        "        # Armazena o melhor custo para esta iteração\n",
        "        if j == 0 or melhor_custo_HC > melhores_custos_HC[i][0]:\n",
        "            melhores_custos_HC[i] = (melhor_custo_HC,best_global_coust, solucao_HC, data[2])\n",
        "        if j == 0 or melhor_custo_SA > melhores_custos_SA[i][0]:\n",
        "            melhores_custos_SA[i] = (melhor_custo_SA,best_global_coust, solucao_SA, data[2])"
      ]
    },
    {
      "cell_type": "code",
      "execution_count": null,
      "id": "908f271b7a31443c",
      "metadata": {
        "ExecuteTime": {
          "end_time": "2023-09-20T21:31:14.909732428Z",
          "start_time": "2023-09-20T21:31:14.863020573Z"
        },
        "jupyter": {
          "outputs_hidden": false
        },
        "id": "908f271b7a31443c"
      },
      "outputs": [],
      "source": [
        "import pandas as pd"
      ]
    },
    {
      "cell_type": "code",
      "execution_count": null,
      "id": "e10a8e5ea8b6b381",
      "metadata": {
        "ExecuteTime": {
          "end_time": "2023-09-20T21:31:14.910387904Z",
          "start_time": "2023-09-20T21:31:14.909611687Z"
        },
        "jupyter": {
          "outputs_hidden": false
        },
        "id": "e10a8e5ea8b6b381"
      },
      "outputs": [],
      "source": [
        "dt_HC = pd.DataFrame(melhores_custos_HC).T\n",
        "dt_HC.columns = ['Melhor custo', 'Melhor custo global', 'Melhor solução','Melhor solução global']\n",
        "dt_HC"
      ]
    },
    {
      "cell_type": "code",
      "execution_count": null,
      "id": "cc929a7ed10ed22c",
      "metadata": {
        "ExecuteTime": {
          "end_time": "2023-09-20T21:31:14.911666065Z",
          "start_time": "2023-09-20T21:31:14.909837729Z"
        },
        "jupyter": {
          "outputs_hidden": false
        },
        "id": "cc929a7ed10ed22c"
      },
      "outputs": [],
      "source": [
        "dt_SA = pd.DataFrame(melhores_custos_SA).T\n",
        "dt_SA.columns = ['Melhor custo', 'Melhor custo global', 'Melhor solução','Melhor solução global']\n",
        "dt_SA"
      ]
    },
    {
      "cell_type": "code",
      "execution_count": null,
      "id": "78e5a856-078b-48e8-8337-b2965ec70008",
      "metadata": {
        "id": "78e5a856-078b-48e8-8337-b2965ec70008"
      },
      "outputs": [],
      "source": []
    }
  ],
  "metadata": {
    "kernelspec": {
      "display_name": "Python 3 (ipykernel)",
      "language": "python",
      "name": "python3"
    },
    "language_info": {
      "codemirror_mode": {
        "name": "ipython",
        "version": 3
      },
      "file_extension": ".py",
      "mimetype": "text/x-python",
      "name": "python",
      "nbconvert_exporter": "python",
      "pygments_lexer": "ipython3",
      "version": "3.11.2"
    },
    "colab": {
      "provenance": []
    }
  },
  "nbformat": 4,
  "nbformat_minor": 5
}