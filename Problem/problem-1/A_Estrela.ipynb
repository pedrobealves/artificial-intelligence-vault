{
  "nbformat": 4,
  "nbformat_minor": 0,
  "metadata": {
    "colab": {
      "provenance": []
    },
    "kernelspec": {
      "name": "python3",
      "language": "python",
      "display_name": "Python 3 (ipykernel)"
    },
    "language_info": {
      "name": "python"
    }
  },
  "cells": [
    {
      "cell_type": "markdown",
      "source": [
        "## **Bruno Andrade Schiavone 2142546**\n",
        "## **Pedro Bernardi Alves 1914618**"
      ],
      "metadata": {
        "collapsed": false,
        "id": "Wilw-3DEVrrx"
      }
    },
    {
      "cell_type": "code",
      "execution_count": null,
      "outputs": [],
      "source": [
        "# Construção manual do dicionário\n",
        "def criaListaAdj():\n",
        "  listaAdj = {\n",
        "              'Arad': {'Timisoara': 118 , 'Sibiu': 140, 'Zerind': 75 },\n",
        "              'Zerind': {'Arad': 75, 'Oradea': 71},\n",
        "              'Oradea': {'Zerind': 71, 'Sibiu': 151},\n",
        "              'Sibiu': {'Arad': 140, 'Oradea': 151, 'Fagaras': 99, 'Rimnicu': 80},\\\n",
        "              'Timisoara': {'Arad': 118, 'Lugoj': 111},\n",
        "              'Lugoj': {'Timisoara': 111, 'Mehadia': 70},\n",
        "              'Mehadia': {'Lugoj': 70, 'Dobreta': 75},\n",
        "              'Dobreta': {'Mehadia': 75, 'Craiova': 120},\n",
        "              'Craiova': {'Dobreta': 120, 'Rimnicu': 146, 'Pitesti': 138},\n",
        "              'Rimnicu': {'Sibiu': 80, 'Craiova': 146, 'Pitesti': 97},\n",
        "              'Fagaras': {'Sibiu': 99, 'Bucharest': 211},\n",
        "              'Pitesti': {'Rimnicu': 97, 'Craiova': 138, 'Bucharest': 101},\n",
        "              'Bucharest': {'Fagaras': 211, 'Pitesti': 101, 'Giurgiu': 90, 'Urziceni': 85},\n",
        "              'Giurgiu': {'Bucharest': 90},\n",
        "              'Urziceni': {'Bucharest': 85, 'Vaslui': 142, 'Hirsova': 98},\n",
        "              'Hirsova': {'Urziceni': 98, 'Eforie': 86},\n",
        "              'Eforie': {'Hirsova': 86},\n",
        "              'Vaslui': {'Iasi': 92, 'Urziceni': 142},\n",
        "              'Iasi': {'Vaslui': 92, 'Neamt': 87},\n",
        "              'Neamt': {'Iasi': 87}\n",
        "          }\n",
        "  return listaAdj\n",
        "\n",
        "def getHeuristics():\n",
        "\n",
        "  heuristics = {'Arad':366,\n",
        "              'Bucharest':0,\n",
        "              'Craiova':160,\n",
        "              'Dobreta': 242,\n",
        "              'Eforie': 161,\n",
        "              'Fagaras': 178,\n",
        "              'Giurgiu': 77,\n",
        "              'Hirsova': 151,\n",
        "              'Iasi': 226,\n",
        "              'Lugoj': 244,\n",
        "              'Mehadia': 241,\n",
        "              'Neamt': 234,\n",
        "              'Oradea': 380,\n",
        "              'Pitesti': 98,\n",
        "              'Rimnicu': 193,\n",
        "              'Sibiu': 253,\n",
        "              'Timisoara': 329,\n",
        "              'Urziceni': 80,\n",
        "              'Vaslui': 199,\n",
        "              'Zerind': 374\n",
        "              }\n",
        "  return heuristics"
      ],
      "metadata": {
        "ExecuteTime": {
          "end_time": "2023-09-12T14:57:41.795035146Z",
          "start_time": "2023-09-12T14:57:41.725954296Z"
        },
        "id": "7T4CWGAkVrr1"
      }
    },
    {
      "cell_type": "code",
      "source": [
        "from queue import PriorityQueue"
      ],
      "metadata": {
        "id": "nlAmIajoYE8s",
        "ExecuteTime": {
          "end_time": "2023-09-12T14:57:41.795545493Z",
          "start_time": "2023-09-12T14:57:41.792367716Z"
        }
      },
      "execution_count": null,
      "outputs": []
    },
    {
      "cell_type": "code",
      "source": [
        "# Função A-star\n",
        "def a_star(listaAdj, origem, objetivo, distancias):\n",
        "\n",
        "  \"\"\"\n",
        "    Dados necessários:\n",
        "    (i) fronteira:\n",
        "            Formato dicionário (não permite redundância de cidades)\n",
        "            Armazena as cidades expandidas (chave) e o custo parcial (valor)\n",
        "\n",
        "    (ii) custo_caminho: armazena os valores das arestas dos caminhos percorridos\n",
        "\n",
        "    (iii) f_custo: função custo com a soma\n",
        "               custo_caminho + distância por linha reta\n",
        "  \"\"\"\n",
        "\n",
        "  # Inicializa as variáveis fronteira e fila prioridade\n",
        "  fronteira = {}\n",
        "  fila = PriorityQueue()\n",
        "\n",
        "  #  Insere a cidade Arad na fila de prioridade e fronteira\n",
        "  fila.put((distancias[origem],0, origem, [origem]))\n",
        "  # Insere a cidade origem na fronteira\n",
        "  fronteira[origem] = distancias[origem]\n",
        "\n",
        "  while not fila.empty():\n",
        "\n",
        "      # Obtem os dados armazenados na fila de prioriodade!\n",
        "      (f_custo,custo,origem,caminho) = fila.get()\n",
        "\n",
        "      # Teste de condição de parada: cidade == objetivo\n",
        "      if (origem == objetivo):\n",
        "          return f_custo,caminho\n",
        "\n",
        "      #Visita todos os vizinhos da cidade atual\n",
        "      for vizinho in listaAdj[origem].keys():\n",
        "\n",
        "        # Obtem a estimativa de custo do caminho entre a cidade origem (Arad)\n",
        "        #  e a cidade vizinha\n",
        "        custo_atual = custo + listaAdj[origem][vizinho]\n",
        "        # Obtem a estimativa de custo do caminho entre a cidade vizinha e o objetivo\n",
        "        f_custo = custo_atual + distancias[vizinho]\n",
        "\n",
        "\n",
        "        # Verifica se a cidade vizinha já foi expandida e se o custo atual é menor\n",
        "        if not vizinho in fronteira or fronteira[vizinho] >= f_custo:\n",
        "            # Insere na fila de prioridade e na fronteira\n",
        "            fronteira[vizinho] = f_custo\n",
        "            # Insere na fila de prioridade\n",
        "            fila.put((f_custo,custo_atual,vizinho,caminho + [vizinho]))\n"
      ],
      "metadata": {
        "id": "Ali823EvC3CQ",
        "ExecuteTime": {
          "end_time": "2023-09-12T14:57:41.795796944Z",
          "start_time": "2023-09-12T14:57:41.792650554Z"
        }
      },
      "execution_count": null,
      "outputs": []
    },
    {
      "cell_type": "code",
      "source": [
        "# Inicializa os objetos cidades e distancias\n",
        "cidades = criaListaAdj()\n",
        "h = getHeuristics()\n",
        "f_custo, caminho = a_star(cidades, 'Arad', 'Bucharest', h)\n",
        "print(caminho)\n",
        "print(f_custo)"
      ],
      "metadata": {
        "id": "6YYK-AH0s-MD",
        "ExecuteTime": {
          "end_time": "2023-09-19T23:03:59.441132129Z",
          "start_time": "2023-09-19T23:03:59.355154627Z"
        }
      },
      "execution_count": null,
      "outputs": []
    },
    {
      "cell_type": "code",
      "execution_count": null,
      "outputs": [],
      "source": [],
      "metadata": {
        "id": "3Ds7Xc_F1Rxp"
      }
    }
  ]
}