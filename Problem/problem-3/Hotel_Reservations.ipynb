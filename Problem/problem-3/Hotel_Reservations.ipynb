{
  "cells": [
    {
      "cell_type": "markdown",
      "id": "7ba481b6259e6e4a",
      "metadata": {
        "collapsed": false,
        "id": "7ba481b6259e6e4a"
      },
      "source": [
        "## **Bruno Andrade Schiavone 2142546**\n",
        "## **Pedro Bernardi Alves 1914618**"
      ]
    },
    {
      "cell_type": "code",
      "execution_count": null,
      "id": "bce98b2a3e2c363b",
      "metadata": {
        "ExecuteTime": {
          "end_time": "2023-10-29T23:34:40.834761993Z",
          "start_time": "2023-10-29T23:34:40.588658557Z"
        },
        "id": "bce98b2a3e2c363b"
      },
      "outputs": [],
      "source": [
        "import numpy as np\n",
        "import pandas as pd\n",
        "import matplotlib.pyplot as plt\n",
        "import seaborn as sns\n",
        "import statistics  as sts\n",
        "from sklearn.model_selection import train_test_split\n",
        "from sklearn.preprocessing import StandardScaler\n",
        "from sklearn.model_selection import cross_val_score\n",
        "from sklearn.tree import DecisionTreeClassifier\n",
        "from sklearn.neighbors import KNeighborsClassifier\n",
        "from sklearn.metrics import accuracy_score\n",
        "from sklearn.metrics import confusion_matrix\n",
        "from sklearn.metrics import classification_report"
      ]
    },
    {
      "cell_type": "markdown",
      "id": "e115676511fa63e8",
      "metadata": {
        "collapsed": false,
        "id": "e115676511fa63e8"
      },
      "source": [
        "## 1) Carregamento da base dados"
      ]
    },
    {
      "cell_type": "code",
      "execution_count": null,
      "id": "initial_id",
      "metadata": {
        "collapsed": true,
        "jupyter": {
          "outputs_hidden": true
        },
        "ExecuteTime": {
          "end_time": "2023-10-29T23:34:40.984841350Z",
          "start_time": "2023-10-29T23:34:40.836345646Z"
        },
        "id": "initial_id"
      },
      "outputs": [],
      "source": [
        "df=pd.read_csv('hotel-reservations.csv')\n",
        "df"
      ]
    },
    {
      "cell_type": "code",
      "execution_count": null,
      "id": "33d202ce54e244b2",
      "metadata": {
        "ExecuteTime": {
          "end_time": "2023-10-29T23:34:41.050313498Z",
          "start_time": "2023-10-29T23:34:40.979986729Z"
        },
        "id": "33d202ce54e244b2"
      },
      "outputs": [],
      "source": [
        "df.info()"
      ]
    },
    {
      "cell_type": "code",
      "execution_count": null,
      "id": "76b132d486388984",
      "metadata": {
        "ExecuteTime": {
          "end_time": "2023-10-29T23:34:41.196519171Z",
          "start_time": "2023-10-29T23:34:41.007136509Z"
        },
        "id": "76b132d486388984"
      },
      "outputs": [],
      "source": [
        "df.describe()"
      ]
    },
    {
      "cell_type": "code",
      "execution_count": null,
      "id": "e064529c9e10b738",
      "metadata": {
        "ExecuteTime": {
          "end_time": "2023-10-29T23:34:41.197211134Z",
          "start_time": "2023-10-29T23:34:41.091120580Z"
        },
        "id": "e064529c9e10b738"
      },
      "outputs": [],
      "source": [
        "df['booking_status'].value_counts()"
      ]
    },
    {
      "cell_type": "code",
      "execution_count": null,
      "id": "a906ded1c959cd78",
      "metadata": {
        "ExecuteTime": {
          "end_time": "2023-10-29T23:34:41.198846765Z",
          "start_time": "2023-10-29T23:34:41.101970752Z"
        },
        "id": "a906ded1c959cd78"
      },
      "outputs": [],
      "source": [
        "df.shape"
      ]
    },
    {
      "cell_type": "code",
      "execution_count": null,
      "id": "da962c0a185e2e3a",
      "metadata": {
        "ExecuteTime": {
          "end_time": "2023-10-29T23:34:41.199399803Z",
          "start_time": "2023-10-29T23:34:41.144157637Z"
        },
        "id": "da962c0a185e2e3a"
      },
      "outputs": [],
      "source": [
        "df.isnull().sum()"
      ]
    },
    {
      "cell_type": "code",
      "execution_count": null,
      "id": "77fd143ad3bfe3dd",
      "metadata": {
        "ExecuteTime": {
          "end_time": "2023-10-29T23:34:41.206819240Z",
          "start_time": "2023-10-29T23:34:41.144544816Z"
        },
        "id": "77fd143ad3bfe3dd"
      },
      "outputs": [],
      "source": [
        "df.nunique()"
      ]
    },
    {
      "cell_type": "code",
      "execution_count": null,
      "id": "1cfe3a31e6e8e34f",
      "metadata": {
        "ExecuteTime": {
          "end_time": "2023-10-29T23:34:41.207339024Z",
          "start_time": "2023-10-29T23:34:41.188231689Z"
        },
        "id": "1cfe3a31e6e8e34f"
      },
      "outputs": [],
      "source": [
        "df['booking_status'].value_counts()"
      ]
    },
    {
      "cell_type": "markdown",
      "id": "59c0086ea7d4b4ff",
      "metadata": {
        "collapsed": false,
        "id": "59c0086ea7d4b4ff"
      },
      "source": [
        "## 2) Pré-processamento"
      ]
    },
    {
      "cell_type": "code",
      "execution_count": null,
      "id": "17500f23410044da",
      "metadata": {
        "ExecuteTime": {
          "end_time": "2023-10-29T23:34:41.207547003Z",
          "start_time": "2023-10-29T23:34:41.188554248Z"
        },
        "id": "17500f23410044da"
      },
      "outputs": [],
      "source": [
        "df.drop(['Booking_ID'],axis=1, inplace=True)"
      ]
    },
    {
      "cell_type": "code",
      "execution_count": null,
      "id": "629890d1c09d59b1",
      "metadata": {
        "ExecuteTime": {
          "end_time": "2023-10-29T23:34:41.207950005Z",
          "start_time": "2023-10-29T23:34:41.188737352Z"
        },
        "id": "629890d1c09d59b1"
      },
      "outputs": [],
      "source": [
        "df.select_dtypes(include='object').nunique()"
      ]
    },
    {
      "cell_type": "code",
      "execution_count": null,
      "id": "8368830e1a9cdb1e",
      "metadata": {
        "ExecuteTime": {
          "end_time": "2023-10-29T23:34:41.333815544Z",
          "start_time": "2023-10-29T23:34:41.188895939Z"
        },
        "id": "8368830e1a9cdb1e"
      },
      "outputs": [],
      "source": [
        "df.info()\n",
        "df.isnull().sum()"
      ]
    },
    {
      "cell_type": "code",
      "execution_count": null,
      "id": "54be2f4bf85f06ed",
      "metadata": {
        "ExecuteTime": {
          "end_time": "2023-10-29T23:34:41.334091577Z",
          "start_time": "2023-10-29T23:34:41.232328782Z"
        },
        "id": "54be2f4bf85f06ed"
      },
      "outputs": [],
      "source": [
        "from sklearn.preprocessing import LabelEncoder"
      ]
    },
    {
      "cell_type": "code",
      "execution_count": null,
      "id": "ede5a5399803e3ee",
      "metadata": {
        "ExecuteTime": {
          "end_time": "2023-10-29T23:34:41.334302212Z",
          "start_time": "2023-10-29T23:34:41.232654900Z"
        },
        "id": "ede5a5399803e3ee"
      },
      "outputs": [],
      "source": [
        "labelencoder = LabelEncoder()\n",
        "df[\"booking_status\"] = labelencoder.fit_transform(df[\"booking_status\"])"
      ]
    },
    {
      "cell_type": "code",
      "execution_count": null,
      "id": "99113eecbd52d9ac",
      "metadata": {
        "ExecuteTime": {
          "end_time": "2023-10-29T23:34:41.335811856Z",
          "start_time": "2023-10-29T23:34:41.234825089Z"
        },
        "id": "99113eecbd52d9ac"
      },
      "outputs": [],
      "source": [
        "df"
      ]
    },
    {
      "cell_type": "code",
      "execution_count": null,
      "id": "a1d30cfecf5c72b0",
      "metadata": {
        "ExecuteTime": {
          "end_time": "2023-10-29T23:34:41.336363484Z",
          "start_time": "2023-10-29T23:34:41.244056363Z"
        },
        "id": "a1d30cfecf5c72b0"
      },
      "outputs": [],
      "source": [
        "df = pd.get_dummies(df, columns=['market_segment_type', 'room_type_reserved', 'type_of_meal_plan'])"
      ]
    },
    {
      "cell_type": "code",
      "execution_count": null,
      "id": "e190201dabdf1eff",
      "metadata": {
        "ExecuteTime": {
          "end_time": "2023-10-29T23:34:41.392150981Z",
          "start_time": "2023-10-29T23:34:41.264120528Z"
        },
        "id": "e190201dabdf1eff"
      },
      "outputs": [],
      "source": [
        "df"
      ]
    },
    {
      "cell_type": "markdown",
      "id": "b4e70f63ab8118a",
      "metadata": {
        "collapsed": false,
        "id": "b4e70f63ab8118a"
      },
      "source": []
    },
    {
      "cell_type": "code",
      "execution_count": null,
      "id": "d55d05874aed811f",
      "metadata": {
        "ExecuteTime": {
          "end_time": "2023-10-29T23:34:41.393605440Z",
          "start_time": "2023-10-29T23:34:41.306872826Z"
        },
        "id": "d55d05874aed811f"
      },
      "outputs": [],
      "source": [
        "cols_to_drop = ['arrival_date', 'arrival_year']\n",
        "df.drop(cols_to_drop,axis=1, inplace=True)\n",
        "df"
      ]
    },
    {
      "cell_type": "markdown",
      "id": "e9766f4f80caf4f4",
      "metadata": {
        "collapsed": false,
        "id": "e9766f4f80caf4f4"
      },
      "source": [
        "### Normalização dos dados"
      ]
    },
    {
      "cell_type": "code",
      "execution_count": null,
      "id": "1ab6c29f4fbf568e",
      "metadata": {
        "ExecuteTime": {
          "end_time": "2023-10-29T23:34:41.394427212Z",
          "start_time": "2023-10-29T23:34:41.307423522Z"
        },
        "id": "1ab6c29f4fbf568e"
      },
      "outputs": [],
      "source": [
        "df.nunique()"
      ]
    },
    {
      "cell_type": "code",
      "execution_count": null,
      "id": "1d6a48e369f166c8",
      "metadata": {
        "ExecuteTime": {
          "end_time": "2023-10-29T23:34:41.493617644Z",
          "start_time": "2023-10-29T23:34:41.321148063Z"
        },
        "id": "1d6a48e369f166c8"
      },
      "outputs": [],
      "source": [
        "std=StandardScaler()\n",
        "\n",
        "#columns = ['lead_time','avg_price_per_room']\n",
        "columns = ['lead_time','avg_price_per_room', 'no_of_adults', 'no_of_children', 'no_of_weekend_nights', 'no_of_week_nights', 'required_car_parking_space', 'arrival_month', 'repeated_guest', 'no_of_previous_cancellations', 'no_of_previous_bookings_not_canceled', 'no_of_special_requests']\n",
        "df[columns] = \\\n",
        "std.fit_transform(df[columns])"
      ]
    },
    {
      "cell_type": "code",
      "execution_count": null,
      "id": "2631368cbd5d120f",
      "metadata": {
        "ExecuteTime": {
          "end_time": "2023-10-29T23:34:41.494984289Z",
          "start_time": "2023-10-29T23:34:41.364002253Z"
        },
        "id": "2631368cbd5d120f"
      },
      "outputs": [],
      "source": [
        "df"
      ]
    },
    {
      "cell_type": "code",
      "execution_count": null,
      "id": "c30eb65dc6a915f6",
      "metadata": {
        "ExecuteTime": {
          "end_time": "2023-10-29T23:34:41.522524269Z",
          "start_time": "2023-10-29T23:34:41.364399140Z"
        },
        "id": "c30eb65dc6a915f6"
      },
      "outputs": [],
      "source": [
        "df.describe()"
      ]
    },
    {
      "cell_type": "code",
      "execution_count": null,
      "id": "82e33dcf486c4845",
      "metadata": {
        "ExecuteTime": {
          "end_time": "2023-10-29T23:34:44.633683117Z",
          "start_time": "2023-10-29T23:34:41.415108554Z"
        },
        "id": "82e33dcf486c4845"
      },
      "outputs": [],
      "source": [
        "cor=df.corr()\n",
        "plt.figure(figsize=(15,15),layout='constrained')\n",
        "plt.title('Matriz de correlação')\n",
        "sns.heatmap(cor,annot=True)\n",
        "plt.show()"
      ]
    },
    {
      "cell_type": "code",
      "execution_count": null,
      "id": "f067565c256e4fbb",
      "metadata": {
        "ExecuteTime": {
          "end_time": "2023-10-29T23:34:45.375835987Z",
          "start_time": "2023-10-29T23:34:44.632965121Z"
        },
        "id": "f067565c256e4fbb"
      },
      "outputs": [],
      "source": [
        "cor=df.corr()\n",
        "target=cor['booking_status'].drop('booking_status')\n",
        "target_s=target.sort_values(ascending=False)\n",
        "plt.figure(figsize=(10,10),layout='constrained')\n",
        "plt.title('Variáveis importantes de acordo com a variável alvo')\n",
        "sns.heatmap(target_s.to_frame(),annot=True)\n",
        "plt.show()"
      ]
    },
    {
      "cell_type": "markdown",
      "id": "2538e2bafb40b93d",
      "metadata": {
        "collapsed": false,
        "id": "2538e2bafb40b93d"
      },
      "source": [
        "## 3) Algoritmos de Classificação\n",
        "* Árvore de Decisão\n",
        "* KNN"
      ]
    },
    {
      "cell_type": "code",
      "execution_count": null,
      "id": "93d97b55bdf7916e",
      "metadata": {
        "ExecuteTime": {
          "end_time": "2023-10-29T23:34:45.554191050Z",
          "start_time": "2023-10-29T23:34:45.392987188Z"
        },
        "id": "93d97b55bdf7916e"
      },
      "outputs": [],
      "source": [
        "X = df.drop(['booking_status'], axis=1).values\n",
        "y = df['booking_status'].values"
      ]
    },
    {
      "cell_type": "code",
      "execution_count": null,
      "id": "8a7005b16050bf95",
      "metadata": {
        "ExecuteTime": {
          "end_time": "2023-10-29T23:34:45.554586050Z",
          "start_time": "2023-10-29T23:34:45.405536062Z"
        },
        "id": "8a7005b16050bf95"
      },
      "outputs": [],
      "source": [
        "X_train, X_test, y_train, y_test = train_test_split(X, y, test_size=0.3)"
      ]
    },
    {
      "cell_type": "markdown",
      "id": "e5f88e2330c7f2b1",
      "metadata": {
        "collapsed": false,
        "id": "e5f88e2330c7f2b1"
      },
      "source": [
        "Decision Tree"
      ]
    },
    {
      "cell_type": "code",
      "execution_count": null,
      "id": "ce8945d43fbcfded",
      "metadata": {
        "ExecuteTime": {
          "end_time": "2023-10-29T23:34:45.643224631Z",
          "start_time": "2023-10-29T23:34:45.469373829Z"
        },
        "id": "ce8945d43fbcfded"
      },
      "outputs": [],
      "source": [
        "DT = DecisionTreeClassifier()\n",
        "DT.fit(X_train, y_train)\n",
        "y_pred = DT.predict(X_test)\n",
        "\n",
        "DT_score = DT.score(X_train, y_train)\n",
        "DT_test = DT.score(X_test, y_test)\n",
        "\n",
        "cm = confusion_matrix(y_test,y_pred)\n",
        "print('Training Score',DT_score)\n",
        "print('Testing Score \\n',DT_test)\n",
        "print(cm)"
      ]
    },
    {
      "cell_type": "markdown",
      "id": "c18f9ed7ef2e7ad0",
      "metadata": {
        "collapsed": false,
        "id": "c18f9ed7ef2e7ad0"
      },
      "source": [
        "### KNN Classifier"
      ]
    },
    {
      "cell_type": "code",
      "execution_count": null,
      "id": "624511fe4136d046",
      "metadata": {
        "ExecuteTime": {
          "end_time": "2023-10-29T23:34:50.073894180Z",
          "start_time": "2023-10-29T23:34:45.684484414Z"
        },
        "id": "624511fe4136d046"
      },
      "outputs": [],
      "source": [
        "knn = KNeighborsClassifier(n_neighbors=5)\n",
        "knn.fit(X_train, y_train)\n",
        "y_pred = knn.predict(X_test)\n",
        "\n",
        "train_score = knn.score(X_train,y_train)\n",
        "test_score = knn.score(X_test, y_test)\n",
        "\n",
        "cm = confusion_matrix(y_test,y_pred)\n",
        "print('Training Score',train_score)\n",
        "print('Testing Score \\n',test_score)\n",
        "print(cm)"
      ]
    },
    {
      "cell_type": "markdown",
      "id": "f8c414f16dfc824a",
      "metadata": {
        "collapsed": false,
        "id": "f8c414f16dfc824a"
      },
      "source": [
        "## 4) validação cruzada"
      ]
    },
    {
      "cell_type": "code",
      "execution_count": null,
      "id": "d91d0171f0ca9a28",
      "metadata": {
        "ExecuteTime": {
          "end_time": "2023-10-29T23:34:50.078378376Z",
          "start_time": "2023-10-29T23:34:50.073708587Z"
        },
        "id": "d91d0171f0ca9a28"
      },
      "outputs": [],
      "source": [
        "from sklearn.model_selection import StratifiedKFold"
      ]
    },
    {
      "cell_type": "markdown",
      "id": "d5dd60b45db16437",
      "metadata": {
        "collapsed": false,
        "id": "d5dd60b45db16437"
      },
      "source": [
        "#### Decision Tree - Cross-Validation"
      ]
    },
    {
      "cell_type": "code",
      "execution_count": null,
      "id": "7a16e1e191b9f741",
      "metadata": {
        "ExecuteTime": {
          "end_time": "2023-10-29T23:34:51.760544118Z",
          "start_time": "2023-10-29T23:34:50.078745826Z"
        },
        "id": "7a16e1e191b9f741"
      },
      "outputs": [],
      "source": [
        "# Create StratifiedKFold object.\n",
        "skf = StratifiedKFold(n_splits=10, shuffle=True, random_state=1)\n",
        "lst_accu_stratified = []\n",
        "\n",
        "for train_index, test_index in skf.split(X, y):\n",
        "    x_train_fold, x_test_fold = X[train_index], X[test_index]\n",
        "    y_train_fold, y_test_fold = y[train_index], y[test_index]\n",
        "    DT.fit(x_train_fold, y_train_fold)\n",
        "    lst_accu_stratified.append(DT.score(x_test_fold, y_test_fold))\n",
        "\n",
        "# Print the output.\n",
        "print('Lista de ACC:', lst_accu_stratified)\n",
        "print('\\nMaior ACC:',\n",
        "      max(lst_accu_stratified)*100, '%')\n",
        "print('\\nMenor ACC:',\n",
        "      min(lst_accu_stratified)*100, '%')\n",
        "print('\\nMédia ACC:',\n",
        "      sts.mean(lst_accu_stratified)*100, '%')\n",
        "print('\\nDesvio Padrão:', sts.stdev(lst_accu_stratified))"
      ]
    },
    {
      "cell_type": "markdown",
      "id": "4b5aca801b8e1a83",
      "metadata": {
        "collapsed": false,
        "id": "4b5aca801b8e1a83"
      },
      "source": [
        "#### KNN - Cross-Validation"
      ]
    },
    {
      "cell_type": "code",
      "execution_count": null,
      "id": "c8c9cdca32dcbbd",
      "metadata": {
        "ExecuteTime": {
          "end_time": "2023-10-29T23:34:55.467323959Z",
          "start_time": "2023-10-29T23:34:51.765934901Z"
        },
        "id": "c8c9cdca32dcbbd"
      },
      "outputs": [],
      "source": [
        "# Create StratifiedKFold object.\n",
        "skf = StratifiedKFold(n_splits=10, shuffle=True, random_state=1)\n",
        "lst_accu_stratified = []\n",
        "\n",
        "for train_index, test_index in skf.split(X, y):\n",
        "    x_train_fold, x_test_fold = X[train_index], X[test_index]\n",
        "    y_train_fold, y_test_fold = y[train_index], y[test_index]\n",
        "    knn.fit(x_train_fold, y_train_fold)\n",
        "    lst_accu_stratified.append(knn.score(x_test_fold, y_test_fold))\n",
        "\n",
        "# Print the output.\n",
        "print('Lista de ACC:', lst_accu_stratified)\n",
        "print('\\nMaior ACC:',\n",
        "      max(lst_accu_stratified)*100, '%')\n",
        "print('\\nMenor ACC:',\n",
        "      min(lst_accu_stratified)*100, '%')\n",
        "print('\\nMédia ACC:',\n",
        "      sts.mean(lst_accu_stratified)*100, '%')\n",
        "print('\\nDesvio Padrão:', sts.stdev(lst_accu_stratified))"
      ]
    },
    {
      "cell_type": "markdown",
      "id": "8af33a8f5f32e9b2",
      "metadata": {
        "collapsed": false,
        "id": "8af33a8f5f32e9b2"
      },
      "source": [
        "## 5) Balanceamento das classes"
      ]
    },
    {
      "cell_type": "code",
      "execution_count": null,
      "id": "b7aa27695eae7fa8",
      "metadata": {
        "ExecuteTime": {
          "end_time": "2023-10-29T23:34:55.473976986Z",
          "start_time": "2023-10-29T23:34:55.467581411Z"
        },
        "id": "b7aa27695eae7fa8"
      },
      "outputs": [],
      "source": [
        "df['booking_status'].value_counts()"
      ]
    },
    {
      "cell_type": "code",
      "execution_count": null,
      "id": "5c64aa7813f1e57d",
      "metadata": {
        "ExecuteTime": {
          "end_time": "2023-10-29T23:34:55.573160959Z",
          "start_time": "2023-10-29T23:34:55.473520876Z"
        },
        "id": "5c64aa7813f1e57d"
      },
      "outputs": [],
      "source": [
        "from imblearn.over_sampling import SMOTE"
      ]
    },
    {
      "cell_type": "markdown",
      "id": "92cf8680d853facd",
      "metadata": {
        "collapsed": false,
        "id": "92cf8680d853facd"
      },
      "source": [
        "#### Decision Tree - Balanceamento e Validação Cruzada"
      ]
    },
    {
      "cell_type": "code",
      "execution_count": null,
      "id": "188279b679f4f4ac",
      "metadata": {
        "ExecuteTime": {
          "end_time": "2023-10-29T23:35:00.122346670Z",
          "start_time": "2023-10-29T23:34:55.578642758Z"
        },
        "id": "188279b679f4f4ac"
      },
      "outputs": [],
      "source": [
        "# Create StratifiedKFold object.\n",
        "skf = StratifiedKFold(n_splits=10, shuffle=True, random_state=1)\n",
        "lst_accu_stratified = []\n",
        "\n",
        "for train_index, test_index in skf.split(X, y):\n",
        "    x_train_fold, x_test_fold = X[train_index], X[test_index]\n",
        "    y_train_fold, y_test_fold = y[train_index], y[test_index]\n",
        "    sm = SMOTE()\n",
        "    x_train_oversampled, y_train_oversampled = sm.fit_resample(x_train_fold, y_train_fold)\n",
        "    DT.fit(x_train_oversampled, y_train_oversampled)\n",
        "    lst_accu_stratified.append(DT.score(x_test_fold, y_test_fold))\n",
        "\n",
        "# Print the output.\n",
        "print('Lista de ACC:', lst_accu_stratified)\n",
        "print('\\nMaior ACC:',\n",
        "      max(lst_accu_stratified)*100, '%')\n",
        "print('\\nMenor ACC:',\n",
        "      min(lst_accu_stratified)*100, '%')\n",
        "print('\\nMédia ACC:',\n",
        "      sts.mean(lst_accu_stratified)*100, '%')\n",
        "print('\\nDesvio Padrão:', sts.stdev(lst_accu_stratified))"
      ]
    },
    {
      "cell_type": "markdown",
      "id": "6d7b2791c28dc70",
      "metadata": {
        "collapsed": false,
        "id": "6d7b2791c28dc70"
      },
      "source": [
        "#### KNN - Balanceamento e Validação Cruzada"
      ]
    },
    {
      "cell_type": "code",
      "execution_count": null,
      "id": "550e1593bae75b4f",
      "metadata": {
        "ExecuteTime": {
          "end_time": "2023-10-29T23:35:06.946415532Z",
          "start_time": "2023-10-29T23:35:00.123030323Z"
        },
        "id": "550e1593bae75b4f"
      },
      "outputs": [],
      "source": [
        "# Create StratifiedKFold object.\n",
        "skf = StratifiedKFold(n_splits=10, shuffle=True, random_state=1)\n",
        "lst_accu_stratified = []\n",
        "\n",
        "for train_index, test_index in skf.split(X, y):\n",
        "    x_train_fold, x_test_fold = X[train_index], X[test_index]\n",
        "    y_train_fold, y_test_fold = y[train_index], y[test_index]\n",
        "    sm = SMOTE()\n",
        "    x_train_oversampled, y_train_oversampled = sm.fit_resample(x_train_fold, y_train_fold)\n",
        "    knn.fit(x_train_oversampled, y_train_oversampled)\n",
        "    lst_accu_stratified.append(knn.score(x_test_fold, y_test_fold))\n",
        "\n",
        "# Print the output.\n",
        "print('Lista de ACC:', lst_accu_stratified)\n",
        "print('\\nMaior ACC:',\n",
        "      max(lst_accu_stratified)*100, '%')\n",
        "print('\\nMenor ACC:',\n",
        "      min(lst_accu_stratified)*100, '%')\n",
        "print('\\nMédia ACC:',\n",
        "      sts.mean(lst_accu_stratified)*100, '%')\n",
        "print('\\nDesvio Padrão:', sts.stdev(lst_accu_stratified))"
      ]
    }
  ],
  "metadata": {
    "kernelspec": {
      "display_name": "Python 3 (ipykernel)",
      "language": "python",
      "name": "python3"
    },
    "language_info": {
      "codemirror_mode": {
        "name": "ipython",
        "version": 3
      },
      "file_extension": ".py",
      "mimetype": "text/x-python",
      "name": "python",
      "nbconvert_exporter": "python",
      "pygments_lexer": "ipython3",
      "version": "3.11.2"
    },
    "colab": {
      "provenance": []
    }
  },
  "nbformat": 4,
  "nbformat_minor": 5
}